{
 "cells": [
  {
   "cell_type": "markdown",
   "id": "40c2e6cb",
   "metadata": {},
   "source": []
  },
  {
   "cell_type": "markdown",
   "metadata": {},
   "source": [
    "# Enhancing Bus Punctuality: A Machine Learning Approach to Binary Classification of Bus Arrival Times\n",
    "\n",
    "**Team: Silin Chen, Stella Wu, xinyi Zhang**"
   ]
  },
  {
   "cell_type": "markdown",
   "metadata": {},
   "source": [
    "## Milestone 2"
   ]
  },
  {
   "cell_type": "code",
   "execution_count": 1,
   "metadata": {
    "tags": []
   },
   "outputs": [],
   "source": [
    "# imports\n",
    "import re\n",
    "import sys\n",
    "import pandas as pd\n",
    "import numpy as np\n",
    "import matplotlib.pyplot as plt\n",
    "from pyspark.sql import SparkSession\n",
    "\n",
    "spark = SparkSession.builder.master(\"local[4]\").appName(\"Milestone2\").getOrCreate()"
   ]
  },
  {
   "cell_type": "code",
   "execution_count": 2,
   "metadata": {
    "tags": []
   },
   "outputs": [
    {
     "name": "stdout",
     "output_type": "stream",
     "text": [
      "/usr/lib/hadoop-mapreduce/hadoop-streaming-2.10.2.jar\n",
      "/usr/lib/hadoop-mapreduce/hadoop-streaming.jar\n"
     ]
    }
   ],
   "source": [
    "# find the location of jar file\n",
    "!find / -name \"hadoop-streaming*.jar\" 2>/dev/null"
   ]
  },
  {
   "cell_type": "code",
   "execution_count": 3,
   "metadata": {
    "tags": []
   },
   "outputs": [],
   "source": [
    "JAR_FILE = \"/usr/lib/hadoop/hadoop-streaming.jar\""
   ]
  },
  {
   "cell_type": "markdown",
   "metadata": {
    "tags": []
   },
   "source": [
    "### Load data to HDFS"
   ]
  },
  {
   "cell_type": "code",
   "execution_count": 51,
   "metadata": {},
   "outputs": [
    {
     "name": "stdout",
     "output_type": "stream",
     "text": [
      "Deleted /user/root/milestone2\n"
     ]
    }
   ],
   "source": [
    "!hdfs dfs -rm -r {HDFS_DIR}"
   ]
  },
  {
   "cell_type": "code",
   "execution_count": 52,
   "metadata": {
    "tags": []
   },
   "outputs": [],
   "source": [
    "# create a hdfs directory where we'll store files \n",
    "from os import environ\n",
    "PATH = environ['PATH']\n",
    "HDFS_DIR = \"/user/root/milestone2\"\n",
    "!hdfs dfs -mkdir -p {HDFS_DIR}"
   ]
  },
  {
   "cell_type": "code",
   "execution_count": 53,
   "metadata": {
    "tags": []
   },
   "outputs": [],
   "source": [
    "# put datasets into the hdfs directory\n",
    "DATA_1 = 'mta_1706.csv'\n",
    "!hdfs dfs -put {DATA_1} {HDFS_DIR}\n",
    "DATA_2 = 'mta_1708.csv'\n",
    "!hdfs dfs -put {DATA_2} {HDFS_DIR}\n",
    "DATA_3 = 'mta_1710.csv'\n",
    "!hdfs dfs -put {DATA_3} {HDFS_DIR}\n",
    "DATA_4 = 'mta_1712.csv'\n",
    "!hdfs dfs -put {DATA_4} {HDFS_DIR}"
   ]
  },
  {
   "cell_type": "code",
   "execution_count": 54,
   "metadata": {
    "tags": []
   },
   "outputs": [
    {
     "name": "stdout",
     "output_type": "stream",
     "text": [
      "Found 4 items\n",
      "-rw-r--r--   1 root hadoop    1048576 2025-04-10 22:09 /user/root/milestone2/mta_1706.csv\n",
      "-rw-r--r--   1 root hadoop    1048576 2025-04-10 22:09 /user/root/milestone2/mta_1708.csv\n",
      "-rw-r--r--   1 root hadoop    1048576 2025-04-10 22:09 /user/root/milestone2/mta_1710.csv\n",
      "-rw-r--r--   1 root hadoop     541957 2025-04-10 22:09 /user/root/milestone2/mta_1712.csv\n"
     ]
    }
   ],
   "source": [
    "# confirm the data was loaded\n",
    "!hdfs dfs -ls {HDFS_DIR}"
   ]
  },
  {
   "cell_type": "markdown",
   "metadata": {
    "tags": []
   },
   "source": [
    "### Read data and stack"
   ]
  },
  {
   "cell_type": "code",
   "execution_count": 55,
   "metadata": {
    "tags": []
   },
   "outputs": [],
   "source": [
    "# define the schema\n",
    "\n",
    "from pyspark.sql.types import StructType, StructField, StringType, FloatType, IntegerType\n",
    "# Make sure to enable Arrow-based columnar data transfers for better performance\n",
    "spark.conf.set(\"spark.sql.execution.arrow.enabled\", \"true\")\n",
    "\n",
    "schema = StructType([\n",
    "    StructField(\"RecordedAtTime\", StringType(), True),\n",
    "    StructField(\"DirectionRef\", FloatType(), True),\n",
    "    StructField(\"PublishedLineName\", StringType(), True),\n",
    "    StructField(\"OriginName\", StringType(), True),\n",
    "    StructField(\"OriginLat\", FloatType(), True),\n",
    "    StructField(\"OriginLong\", FloatType(), True),\n",
    "    StructField(\"DestinationName\", StringType(), True),\n",
    "    StructField(\"DestinationLat\", FloatType(), True),\n",
    "    StructField(\"DestinationLong\", FloatType(), True),\n",
    "    StructField(\"VehicleRef\", StringType(), True),\n",
    "    StructField(\"VehicleLocation.Latitude\", FloatType(), True),\n",
    "    StructField(\"VehicleLocation.Longitude\", FloatType(), True),\n",
    "    StructField(\"NextStopPointName\", StringType(), True),\n",
    "    StructField(\"ArrivalProximityText\", StringType(), True),\n",
    "    StructField(\"DistanceFromStop\", IntegerType(), True),\n",
    "    StructField(\"ExpectedArrivalTime\", StringType(), True),\n",
    "    StructField(\"ScheduledArrivalTime\", StringType(), True)\n",
    "])"
   ]
  },
  {
   "cell_type": "code",
   "execution_count": 56,
   "metadata": {
    "tags": []
   },
   "outputs": [
    {
     "name": "stdout",
     "output_type": "stream",
     "text": [
      "+-------------------+------------+-----------------+--------------------+---------+----------+--------------------+--------------+---------------+----------+------------------------+-------------------------+--------------------+--------------------+----------------+-------------------+--------------------+\n",
      "|     RecordedAtTime|DirectionRef|PublishedLineName|          OriginName|OriginLat|OriginLong|     DestinationName|DestinationLat|DestinationLong|VehicleRef|VehicleLocation.Latitude|VehicleLocation.Longitude|   NextStopPointName|ArrivalProximityText|DistanceFromStop|ExpectedArrivalTime|ScheduledArrivalTime|\n",
      "+-------------------+------------+-----------------+--------------------+---------+----------+--------------------+--------------+---------------+----------+------------------------+-------------------------+--------------------+--------------------+----------------+-------------------+--------------------+\n",
      "|2017-06-29 07:59:54|         1.0|              Bx9|   BROADWAY/W 262 ST|40.910107| -73.89673|          WEST FARMS|      40.84064|      -73.87981| NYCT_4750|                40.87047|                -73.90445|W KINGSBRIDGE RD/...|             at stop|               1|                 NA|            08:00:01|\n",
      "|2017-06-29 08:00:11|         1.0|          B44-SBS|  LEE AV/FLUSHING AV|40.699505| -73.95348|SELECT BUS SERVIC...|     40.593864|      -73.94067| NYCT_5336|                40.68564|                -73.95062|NOSTRAND AV/FULTO...|       < 1 stop away|             638|2017-06-29 08:02:28|            07:15:35|\n",
      "|2017-06-29 08:00:01|         0.0|              M42|         12 AV/42 ST| 40.76215| -74.00144| UN - 1 AV CROSSTOWN|     40.748005|       -73.9698| NYCT_6741|                40.74865|                -73.96961|        E 42 ST/1 AV|             at stop|               0|                 NA|            08:00:39|\n",
      "|2017-06-29 08:00:15|         0.0|              M57|    W 72 ST/BROADWAY|40.779034|-73.982414|EAST SIDE YORK - ...|     40.759518|      -73.95989| NYCT_3813|               40.758358|                -73.96305|        1 AV/E 57 ST|         approaching|              81|2017-06-29 08:00:51|            07:53:35|\n",
      "|2017-06-29 07:59:53|         0.0|               X8|ELTINGVILLE/TRANS...| 40.56076| -74.17109|DOWNTOWN FRANKFRT...|     40.709305|     -74.001755| NYCT_2759|               40.598442|                -74.06336|LILY POND AV/MC C...|         approaching|              88|2017-06-29 08:00:33|            08:00:00|\n",
      "|2017-06-29 08:10:42|         1.0|             Q20B| 15 AV/COLLEGE PT BL| 40.78421| -73.84536|JAMAICA MERRICK B...|     40.704933|      -73.79332| NYCT_7424|               40.784733|                 -73.8429|        15 AV/127 ST|         approaching|             134|2017-06-29 08:11:16|            08:06:34|\n",
      "|2017-06-29 08:10:40|         1.0|               M5|   BROADWAY/W 178 ST|40.848522|-73.937706|  LIMITED 31 ST 6 AV|      40.74779|      -73.98883| NYCT_3846|               40.820175|                -73.95526|   W 135 ST/BROADWAY|         approaching|              47|2017-06-29 08:11:08|            08:11:00|\n",
      "|2017-06-29 08:10:47|         0.0|              B68|STILLWELL TERMINA...|40.577038| -73.98144|WINDSOR TERR PRTC...|     40.660854|      -73.97939|  NYCT_406|                40.57703|                -73.98153|NEPTUNE AV/STILLW...|       < 1 stop away|             281|2017-06-29 08:11:27|            08:12:34|\n",
      "|2017-06-29 08:10:42|         1.0|              B63|BROOKLYN BRIDGE P...|40.692036|-74.000534|BAY RIDGE SHORE R...|     40.612312|      -74.03598|  NYCT_430|               40.612156|                -74.03567|       SHORE RD/3 AV|         approaching|             117|                 NA|                  NA|\n",
      "|2017-06-29 08:11:06|         1.0|               X1| CENTRAL PARK S/6 AV|40.766315| -73.97749|ELTNGVLE TRANST C...|     40.560837|      -74.17112| NYCT_2693|                40.75569|                -73.97927|        5 AV/W 41 ST|       < 1 stop away|             404|2017-06-29 08:12:40|            08:14:00|\n",
      "|2017-06-29 08:10:55|         0.0|              Q46|     QUEENS BL/78 AV|40.715233| -73.83202|LTD LK SUCCESS LI...|     40.754894|      -73.70659| NYCT_6449|                40.75478|                 -73.7068|LIJ MEDICAL CTR/2...|             at stop|              21|2017-06-29 08:11:08|            08:11:00|\n",
      "|2017-06-29 08:10:34|         1.0|              Q27|        138 ST/37 AV|40.761806| -73.82956|LTD CAMBRIA HEIGH...|     40.692406|      -73.74522| NYCT_4663|               40.712563|                -73.73617|SPRINGFIELD BL/HO...|         approaching|              66|2017-06-29 08:11:08|            08:10:31|\n",
      "|2017-06-29 08:10:54|         1.0|               Q5|FRANCIS LEWIS BL/...|40.666046| -73.73596|LTD JAMAICA PARSO...|     40.701683|     -73.802475| NYCT_8422|               40.701546|                -73.80373|    TEARDROP/LAYOVER|       < 1 stop away|             206|2017-06-29 08:12:54|            08:04:00|\n",
      "|2017-06-29 08:11:03|         0.0|             Bx18|SEDGWICK AV/HARLE...| 40.85202| -73.92066|      170 ST CONCRSE|     40.838512|      -73.91358| NYCT_4223|                40.83855|                -73.91356|E 170 ST/GRAND CO...|             at stop|              12|                 NA|                  NA|\n",
      "|2017-06-29 08:10:53|         1.0|              S93|          4 AV/87 ST|40.621918| -74.02879|LTD WILLWBROOK CO...|     40.598827|      -74.15176| NYCT_7080|               40.612286|                -74.13539|VICTORY BL/INGRAM AV|         approaching|              89|2017-06-29 08:11:08|            08:14:25|\n",
      "|2017-06-29 08:10:41|         0.0|              X22|  HYLAN BL/BEDELL AV| 40.50688| -74.23298|E MIDTOWN 57 ST v...|     40.759876|      -73.96683| NYCT_2300|               40.744637|                -74.12159|        W 34 ST/9 AV|      9.1 miles away|           14579|2017-06-29 08:27:04|            08:40:00|\n",
      "|2017-06-29 08:10:37|         1.0|         Bx41-SBS|WHITE PLAINS RD/E...|40.877853| -73.86667|SELECT BUS SERVIC...|      40.81687|      -73.91751| NYCT_5781|               40.823666|                -73.91412| MELROSE AV/E 150 ST|      0.5 miles away|             807|2017-06-29 08:13:23|            08:15:00|\n",
      "|2017-06-29 08:11:01|         1.0|               Q2|    HOLLIS AV/207 ST|40.707623| -73.75026| JAMAICA 165 ST TERM|     40.707615|      -73.79554| NYCT_8024|               40.707645|                -73.79545| HEMPSTEAD AV/225 ST|      3.4 miles away|            5497|                 NA|                  NA|\n",
      "|2017-06-29 08:10:54|         0.0|              Q43|ARCHER AV/SUTPHIN BL|40.700504| -73.80782|FLORAL PARK 268 S...|       40.7387|     -73.701454| NYCT_8484|               40.711826|                 -73.7899|  HILLSIDE AV/173 ST|         approaching|              96|2017-06-29 08:11:17|            08:06:49|\n",
      "|2017-06-29 08:10:40|         1.0|               B8|ROCKAWAY AV/HEGEM...|40.655903| -73.90732| BAY RIDGE 95 ST STA|      40.61626|      -74.03113|  NYCT_345|               40.619553|                -73.98975|         18 AV/64 ST|             at stop|              10|2017-06-29 08:11:08|            08:14:24|\n",
      "+-------------------+------------+-----------------+--------------------+---------+----------+--------------------+--------------+---------------+----------+------------------------+-------------------------+--------------------+--------------------+----------------+-------------------+--------------------+\n",
      "only showing top 20 rows\n",
      "\n"
     ]
    }
   ],
   "source": [
    "# Load the CSV file with the defined schema\n",
    "df1 = spark.read.csv(\n",
    "    'hdfs:///user/root/milestone2/mta_1706.csv',\n",
    "    schema=schema,\n",
    "    header=False,\n",
    "    mode=\"DROPMALFORMED\"  # skips malformed rows\n",
    ")\n",
    "\n",
    "# show the few rows of the dataset\n",
    "df1.show()"
   ]
  },
  {
   "cell_type": "code",
   "execution_count": 57,
   "metadata": {
    "tags": []
   },
   "outputs": [],
   "source": [
    "# Rename the columns\n",
    "df1 = df1.withColumnRenamed(\"VehicleLocation.Latitude\", \"VehicleLocation_Latitude\") \\\n",
    "         .withColumnRenamed(\"VehicleLocation.Longitude\", \"VehicleLocation_Longitude\")"
   ]
  },
  {
   "cell_type": "code",
   "execution_count": 58,
   "metadata": {
    "tags": []
   },
   "outputs": [
    {
     "name": "stdout",
     "output_type": "stream",
     "text": [
      "+-------+-------------------+-------------------+-----------------+------------------+-------------------+-------------------+--------------------+-------------------+-------------------+----------+------------------------+-------------------------+-----------------+--------------------+------------------+-------------------+--------------------+\n",
      "|summary|     RecordedAtTime|       DirectionRef|PublishedLineName|        OriginName|          OriginLat|         OriginLong|     DestinationName|     DestinationLat|    DestinationLong|VehicleRef|VehicleLocation_Latitude|VehicleLocation_Longitude|NextStopPointName|ArrivalProximityText|  DistanceFromStop|ExpectedArrivalTime|ScheduledArrivalTime|\n",
      "+-------+-------------------+-------------------+-----------------+------------------+-------------------+-------------------+--------------------+-------------------+-------------------+----------+------------------------+-------------------------+-----------------+--------------------+------------------+-------------------+--------------------+\n",
      "|  count|               4962|               4962|             4962|              4962|               4962|               4962|                4962|               4962|               4962|      4962|                    4962|                     4962|             4962|                4962|              4962|               4962|                4962|\n",
      "|   mean|               null|0.48508665860540107|             null|              null|   40.7214099164453| -73.94037171978472|                null| 40.733186625703986| -73.93505267566464|      null|        40.7273040811461|       -73.93623322837058|             null|                null|286.32466747279324|               null|                null|\n",
      "| stddev|               null| 0.4998279108684588|             null|              null|0.09712055367094374|0.10634531220368315|                null|0.08542421361639341|0.08800555388449681|      null|      0.0877677274653927|      0.09115598030686939|             null|                null|1150.9272951731516|               null|                null|\n",
      "|    min|2017-06-29 07:59:53|                0.0|               B1|       1 AV/125 ST|           40.50688|          -74.24695|14 ST via COLUMBU...|           40.50894|          -74.24695| NYCT_1200|                40.50831|                 -74.2494|      1 AV / 4 ST|      0.5 miles away|                 0|2017-06-29 08:00:33|            06:50:00|\n",
      "|    max|2017-06-29 08:20:38|                1.0|               X9|YUKON AV/KMART DWY|          40.912365|         -73.701866|YORKVILLE 91 ST v...|          40.912376|         -73.701454| NYCT_9674|               40.910255|                -73.70156|     test/tunnel2|             at stop|             30532|                 NA|                  NA|\n",
      "+-------+-------------------+-------------------+-----------------+------------------+-------------------+-------------------+--------------------+-------------------+-------------------+----------+------------------------+-------------------------+-----------------+--------------------+------------------+-------------------+--------------------+\n",
      "\n"
     ]
    }
   ],
   "source": [
    "# Use describe to validate data\n",
    "# Convert the Spark DataFrame summary to a Pandas DataFrame\n",
    "df1.describe().show()"
   ]
  },
  {
   "cell_type": "code",
   "execution_count": 59,
   "metadata": {
    "tags": []
   },
   "outputs": [
    {
     "name": "stdout",
     "output_type": "stream",
     "text": [
      "+-------------------+------------+-----------------+--------------------+---------+----------+--------------------+--------------+---------------+----------+------------------------+-------------------------+--------------------+--------------------+----------------+-------------------+--------------------+\n",
      "|     RecordedAtTime|DirectionRef|PublishedLineName|          OriginName|OriginLat|OriginLong|     DestinationName|DestinationLat|DestinationLong|VehicleRef|VehicleLocation.Latitude|VehicleLocation.Longitude|   NextStopPointName|ArrivalProximityText|DistanceFromStop|ExpectedArrivalTime|ScheduledArrivalTime|\n",
      "+-------------------+------------+-----------------+--------------------+---------+----------+--------------------+--------------+---------------+----------+------------------------+-------------------------+--------------------+--------------------+----------------+-------------------+--------------------+\n",
      "|2017-08-29 11:22:00|         1.0|              B52|PALMETTO ST/ST NI...| 40.70042|-73.909996|DNTWN BKLYN TILLA...|      40.69394|      -73.99031| NYCT_6557|                40.68764|                -73.97777| FULTON ST/HUDSON AV|       < 1 stop away|             230|2017-08-29 11:23:22|            11:20:53|\n",
      "|2017-08-29 11:22:14|         0.0|              B45|LIVINGSTON ST/ CO...| 40.69134| -73.99088|  CROWN HTS RALPH AV|     40.670197|      -73.92255| NYCT_7108|                40.67135|                -73.92235|RALPH AV/STERLING PL|             at stop|              26|                 NA|            11:17:30|\n",
      "|2017-08-29 11:22:20|         0.0|              Bx2| LINCOLN AV/E 137 ST|40.809616|-73.928276|KNGSBRDG HTS FT I...|     40.878746|      -73.89803| NYCT_1204|               40.878662|                -73.89785|SEDGWICK AV/FT IN...|             at stop|               3|2017-08-29 11:22:24|            11:07:00|\n",
      "|2017-08-29 11:22:19|         0.0|               B6| HARWAY AV/BAY 37 ST| 40.59351|-73.993996|LTD EAST NY NEW L...|      40.66642|     -73.883385| NYCT_4861|               40.634094|               -73.946236|GLENWOOD RD/ALBAN...|       < 1 stop away|             744|2017-08-29 11:24:49|            11:19:29|\n",
      "|2017-08-29 11:21:59|         0.0|               B1|MACKENZIE LOOP (n...|40.578247| -73.93974|      BAY RIDGE 4 AV|      40.62184|     -74.028366| NYCT_5089|                40.59046|                -73.97098|         AV X/W 2 ST|         approaching|             138|2017-08-29 11:22:36|            11:27:22|\n",
      "|2017-08-29 11:21:54|         1.0|              S46|ST GEORGE FERRY/S...| 40.64343|-74.073654|TELEPORT via CAST...|      40.60455|      -74.17842| NYCT_7050|               40.643215|                -74.07401|BAY ST/NICK LAPOR...|       < 1 stop away|             243|2017-08-29 11:22:57|            11:16:07|\n",
      "|2017-08-29 11:21:54|         1.0|             M100|   BROADWAY/W 219 ST|40.871967| -73.91304|E HARLM 1 AV-125 ...|     40.802273|     -73.931145| NYCT_4346|                40.86949|                -73.91505|      10 AV/W 214 ST|         approaching|              86|                 NA|            11:21:44|\n",
      "|2017-08-29 11:22:05|         1.0|              B68|PROSPECT PK SW/BA...|40.660698| -73.97941|CONEY ISLAND STIL...|     40.576992|      -73.98143| NYCT_7562|               40.580017|               -73.975075| NEPTUNE AV/SHELL RD|         approaching|             141|2017-08-29 11:22:48|            11:21:27|\n",
      "|2017-08-29 11:22:00|         1.0|              B49|FRANKLIN AV/LEFFE...|40.680473| -73.95564|MNHATN BCH KNGSBR...|     40.578117|      -73.93986| NYCT_4958|                40.62826|                -73.95688|       OCEAN AV/AV I|             at stop|               3|2017-08-29 11:22:24|            11:17:58|\n",
      "|2017-08-29 11:22:09|         1.0|             Bx38|    BAY PZ/BARTOW AV| 40.86677| -73.82507|NORWOOD 205 ST ST...|     40.874424|      -73.87952| NYCT_8319|                40.87356|               -73.854454|E GUN HILL RD/LAC...|         approaching|             152|2017-08-29 11:22:56|            11:19:12|\n",
      "|2017-08-29 11:21:59|         0.0|              M31|       W 54 ST/11 AV|40.767925| -73.99186|YORKVILLE 91 ST v...|     40.779842|      -73.94481| NYCT_6735|               40.767513|                -73.98972|       10 AV/W 55 ST|         approaching|              68|2017-08-29 11:22:24|            11:22:58|\n",
      "|2017-08-29 11:22:18|         0.0|               M4|        W 32 ST/7 AV|40.749405| -73.99102|WSHNGTN HTS CLOIS...|     40.865646|      -73.93206| NYCT_3842|               40.799343|                -73.95508|CENTRAL PK N/ADAM...|             at stop|               2|2017-08-29 11:22:24|            11:22:41|\n",
      "|2017-08-29 11:22:05|         1.0|              B32|         44 DR/21 ST|40.747883| -73.94751|WILLIAMSBURG BRID...|     40.709343|      -73.96041| NYCT_4701|               40.723194|                -73.95648|    WYTHE AV/N 12 ST|       < 1 stop away|             152|2017-08-29 11:22:42|            11:14:53|\n",
      "|2017-08-29 11:22:05|         1.0|              B32|         44 DR/21 ST|40.747883| -73.94751|WILLIAMSBURG BRID...|     40.709343|      -73.96041| NYCT_4701|               40.723194|                -73.95648|    WYTHE AV/N 12 ST|       < 1 stop away|             152|2017-08-29 11:22:42|            11:13:48|\n",
      "|2017-08-29 11:22:00|         1.0|          Q44-SBS|  BOSTON RD/E 180 ST| 40.84256|-73.878334|SELECT BUS JAMAIC...|     40.704933|      -73.79332| NYCT_6000|                  40.838|                -73.87621|   e177 st/bx rvr py|       < 1 stop away|             224|2017-08-29 11:23:06|            11:20:13|\n",
      "|2017-08-29 11:21:52|         0.0|              B46|         KINGS PLAZA|40.609566|-73.921814|BRIDGE PLZ via UTICA|     40.709404|     -73.959564| NYCT_4589|               40.676388|               -73.930405|UTICA AV/ATLANTIC AV|       < 1 stop away|             153|2017-08-29 11:23:14|            11:21:45|\n",
      "|2017-08-29 11:21:59|         1.0|              S53|          4 AV/86 ST| 40.62231| -74.02869|         PT RICHMOND|     40.640297|      -74.13133| NYCT_7075|                40.60965|               -74.090744|NARROWS RD N/RICH...|             at stop|               4|2017-08-29 11:22:24|            11:14:00|\n",
      "|2017-08-29 11:22:01|         1.0|               B8|ROCKAWAY AV/HEGEM...|40.655903| -73.90732| BAY RIDGE 95 ST STA|      40.61626|      -74.03113|  NYCT_384|               40.655693|                -73.90716|LINDEN BL/THOMAS ...|       < 1 stop away|             329|2017-08-29 11:22:45|            11:28:38|\n",
      "|2017-08-29 11:21:53|         1.0|             M14D|DELANCEY ST/COLUM...|40.716423| -73.98025|CHELSEA PIERS 11 ...|     40.744415|      -74.00815| NYCT_5305|               40.738644|                 -73.9999|        W 14 ST/7 AV|             at stop|              18|                 NA|            11:17:00|\n",
      "|2017-08-29 11:22:10|         0.0|               B6| HARWAY AV/BAY 37 ST| 40.59351|-73.993996|LTD EAST NY NEW L...|      40.66642|     -73.883385| NYCT_4889|               40.610332|                -73.98508|      BAY PY/W 10 ST|       < 1 stop away|             160|2017-08-29 11:23:18|            11:27:15|\n",
      "+-------------------+------------+-----------------+--------------------+---------+----------+--------------------+--------------+---------------+----------+------------------------+-------------------------+--------------------+--------------------+----------------+-------------------+--------------------+\n",
      "only showing top 20 rows\n",
      "\n"
     ]
    }
   ],
   "source": [
    "# Load the CSV file with the defined schema\n",
    "df2 = spark.read.csv(\n",
    "    'hdfs:///user/root/milestone2/mta_1708.csv',\n",
    "    schema=schema,\n",
    "    header=False,\n",
    "    mode=\"DROPMALFORMED\"  # skips malformed rows\n",
    ")\n",
    "\n",
    "# show the few rows of the dataset\n",
    "df2.show()"
   ]
  },
  {
   "cell_type": "code",
   "execution_count": 60,
   "metadata": {
    "tags": []
   },
   "outputs": [
    {
     "name": "stdout",
     "output_type": "stream",
     "text": [
      "+-------+-------------------+------------------+-----------------+------------------+-------------------+-------------------+--------------------+-------------------+-------------------+----------+------------------------+-------------------------+------------------+--------------------+------------------+-------------------+--------------------+\n",
      "|summary|     RecordedAtTime|      DirectionRef|PublishedLineName|        OriginName|          OriginLat|         OriginLong|     DestinationName|     DestinationLat|    DestinationLong|VehicleRef|VehicleLocation_Latitude|VehicleLocation_Longitude| NextStopPointName|ArrivalProximityText|  DistanceFromStop|ExpectedArrivalTime|ScheduledArrivalTime|\n",
      "+-------+-------------------+------------------+-----------------+------------------+-------------------+-------------------+--------------------+-------------------+-------------------+----------+------------------------+-------------------------+------------------+--------------------+------------------+-------------------+--------------------+\n",
      "|  count|               4964|              4964|             4964|              4964|               4964|               4964|                4964|               4964|               4964|      4964|                    4964|                     4964|              4964|                4964|              4964|               4964|                4964|\n",
      "|   mean|               null|0.5030217566478646|             null|              null|  40.73302864778628| -73.93142416014199|                null|  40.73318651815656| -73.93162114883411|      null|      40.732191453913735|       -73.93188800550487|              null|                null|172.27336825141015|               null|                null|\n",
      "| stddev|               null|0.5000412382047665|             null|              null|0.08911282301914214|0.08962370798845792|                null|0.08830657003763367|0.08904119511992595|      null|        0.08564924608903|      0.08481730445863926|              null|                null| 450.4186115800762|               null|                null|\n",
      "|    min|2017-08-29 11:19:49|               0.0|               B1|       1 AV/125 ST|           40.50688|          -74.23298|14 ST via COLUMBU...|          40.508106|          -74.23007| NYCT_1202|               40.502884|                -74.25214|       1 AV / 4 ST|      0.5 miles away|                 0|2017-08-29 11:22:24|            10:06:00|\n",
      "|    max|2017-08-29 11:41:43|               1.0|              X28|YUKON AV/KMART DWY|          40.912365|         -73.701866|YORKVILLE 91 ST v...|          40.912376|         -73.701454| NYCT_8503|               40.912388|                -73.70155|west st/liberty st|             at stop|              9537|                 NA|                  NA|\n",
      "+-------+-------------------+------------------+-----------------+------------------+-------------------+-------------------+--------------------+-------------------+-------------------+----------+------------------------+-------------------------+------------------+--------------------+------------------+-------------------+--------------------+\n",
      "\n"
     ]
    }
   ],
   "source": [
    "# Rename the columns\n",
    "df2 = df2.withColumnRenamed(\"VehicleLocation.Latitude\", \"VehicleLocation_Latitude\") \\\n",
    "         .withColumnRenamed(\"VehicleLocation.Longitude\", \"VehicleLocation_Longitude\")\n",
    "\n",
    "# Use describe to validate data\n",
    "# Convert the Spark DataFrame summary to a Pandas DataFrame\n",
    "df2.describe().show()"
   ]
  },
  {
   "cell_type": "code",
   "execution_count": 61,
   "metadata": {
    "tags": []
   },
   "outputs": [
    {
     "name": "stdout",
     "output_type": "stream",
     "text": [
      "+-------------------+------------+-----------------+--------------------+---------+----------+--------------------+--------------+---------------+----------+------------------------+-------------------------+--------------------+--------------------+----------------+-------------------+--------------------+\n",
      "|     RecordedAtTime|DirectionRef|PublishedLineName|          OriginName|OriginLat|OriginLong|     DestinationName|DestinationLat|DestinationLong|VehicleRef|VehicleLocation.Latitude|VehicleLocation.Longitude|   NextStopPointName|ArrivalProximityText|DistanceFromStop|ExpectedArrivalTime|ScheduledArrivalTime|\n",
      "+-------------------+------------+-----------------+--------------------+---------+----------+--------------------+--------------+---------------+----------+------------------------+-------------------------+--------------------+--------------------+----------------+-------------------+--------------------+\n",
      "|2017-10-29 18:20:30|         0.0|             Bx30|E 206 ST/ROCHAMBE...|40.874893| -73.88094|CO-OP CITY EARHAR...|     40.860825|      -73.82267| NYCT_4082|                40.86084|               -73.822876|ERSKINE PL/EARHAR...|             at stop|              15|2017-10-29 18:20:37|            18:18:00|\n",
      "|2017-10-29 18:20:21|         1.0|              S46|ST GEORGE FERRY/S...| 40.64343|-74.073654|W SHORE PLZ via C...|      40.60197|      -74.19133| NYCT_8205|               40.634037|                -74.12359|CASTLETON AV/CLOV...|       < 1 stop away|             190|2017-10-29 18:21:12|            18:17:40|\n",
      "|2017-10-29 18:20:16|         1.0|              M15|       E 126 ST/2 AV| 40.80323| -73.93245|SOUTH FERRY via 2 AV|      40.70161|      -74.01222| NYCT_5893|               40.796654|                -73.93803|       2 AV/E 113 ST|       < 1 stop away|             235|2017-10-29 18:21:47|            18:20:18|\n",
      "|2017-10-29 18:20:13|         1.0|         Bx12-SBS|PARKING RAMP/ACCE...| 40.86599|  -73.8273|SELECT BUS BROADW...|     40.867786|      -73.92055| NYCT_5306|               40.867516|                 -73.9211| BROADWAY/W 207th ST|         approaching|              77|2017-10-29 18:21:04|            18:19:00|\n",
      "|2017-10-29 18:20:34|         0.0|              Bx9|E TREMONT AV/E 17...|40.839993| -73.87994|    RIVERDALE 262 ST|      40.91008|      -73.89649| NYCT_5687|               40.889343|                -73.89841|   BROADWAY/W 242 ST|         approaching|              57|2017-10-29 18:20:51|            18:22:00|\n",
      "|2017-10-29 18:20:31|         1.0|              Q59|     QUEENS BL/62 DR| 40.73133|-73.864944|WILLIAMSBURG BRID...|      40.70934|      -73.96041| NYCT_7199|               40.724392|               -73.898224|GRAND AV/HAMILTON PL|         approaching|              55|2017-10-29 18:20:45|            18:15:06|\n",
      "|2017-10-29 18:20:13|         0.0|              Bx3|     BROADWAY/179 ST|40.849327| -73.93651|RIVERDALE BWAY - ...|     40.885086|      -73.90044| NYCT_4353|                40.85327|                -73.91258|UNIVERSITY AV/W B...|         approaching|              42|                 NA|            18:20:00|\n",
      "|2017-10-29 18:20:11|         0.0|              M55|STATE ST/WHITEHAL...| 40.70242| -74.01305|          44 ST 6 AV|     40.755985|     -73.982994| NYCT_3931|               40.745613|                -73.99083|AV OF THE AMERICA...|         approaching|             123|2017-10-29 18:21:05|            18:18:59|\n",
      "|2017-10-29 18:20:18|         1.0|              B46|WASHINGTON PLZ/LANE3|40.709393| -73.95952|KINGS PLAZA via U...|      40.60914|      -73.92144| NYCT_4957|                40.61344|                 -73.9263|UTICA AV/FLATBUSH AV|             at stop|               0|                 NA|            18:11:37|\n",
      "|2017-10-29 18:20:29|         0.0|          S79-SBS|    MARSH AV/RING RD| 40.58322| -74.16195|SELECT BUS BAY RI...|      40.62252|      -74.02834| NYCT_4274|               40.621326|                -74.02895|          4 AV/86 ST|         approaching|             141|2017-10-29 18:21:06|            18:22:00|\n",
      "|2017-10-29 18:20:08|         1.0|              Bx7|RIVERDALE AV/W 26...| 40.91236|  -73.9027|WASHINGTON HEIGHT...|     40.839813|      -73.93974| NYCT_4378|               40.868553|                -73.91839|   BROADWAY/ISHAM ST|         approaching|             103|                 NA|            18:22:40|\n",
      "|2017-10-29 18:20:07|         0.0|              Q43|ARCHER AV/SUTPHIN BL|40.700504| -73.80782|FLORAL PARK 268 S...|       40.7387|      -73.70146| NYCT_6852|               40.712223|                -73.78561|  HILLSIDE AV/180 ST|       < 1 stop away|             254|2017-10-29 18:20:48|            18:18:00|\n",
      "|2017-10-29 18:20:06|         0.0|             Bx41|         3 AV/151 ST|  40.8171| -73.91603|WILLIAMSBRIDGE GU...|     40.877934|     -73.866585| NYCT_1230|               40.877335|               -73.866295|WHITE PLAINS RD/E...|         approaching|              57|2017-10-29 18:23:21|            18:14:26|\n",
      "|2017-10-29 18:20:28|         1.0|              B68|PROSPECT PK SW/BA...|40.660698| -73.97941|CONEY ISLAND STIL...|     40.576992|      -73.98142|  NYCT_754|               40.579514|               -73.971924|   NEPTUNE AV/W 5 ST|         approaching|             117|2017-10-29 18:21:04|            18:14:32|\n",
      "|2017-10-29 18:20:07|         1.0|          Q44-SBS|  BOSTON RD/E 180 ST| 40.84256|-73.878334|SELECT BUS JAMAIC...|     40.704933|      -73.79332| NYCT_6010|               40.840034|               -73.879585|E TREMONT AV/BOST...|         approaching|             104|2017-10-29 18:20:38|            18:19:19|\n",
      "|2017-10-29 18:20:32|         0.0|              B26|CADMAN PZ W/TILLA...|   40.696|-73.990944|RIDGEWOOD TERM vi...|      40.69929|      -73.91075| NYCT_3990|               40.688114|                -73.97891|FULTON ST/ASHLAND PL|         approaching|              68|2017-10-29 18:20:57|            18:18:22|\n",
      "|2017-10-29 18:20:21|         1.0|          M60-SBS|      LGA/TERMINAL D|40.768387| -73.86253|SELECT BUS WEST S...|     40.801422|      -73.96824| NYCT_5854|                40.77175|               -73.876076|               T4/T4|       < 1 stop away|             587|2017-10-29 18:22:03|            18:12:13|\n",
      "|2017-10-29 18:20:24|         1.0|              Q46|L.I.J.MEDICAL RDW...|40.755066| -73.70642|KEW GARDENS QUEEN...|     40.714733|      -73.83124| NYCT_6486|               40.717625|               -73.817635|    UNION TP/MAIN ST|             at stop|               9|2017-10-29 18:20:37|            18:18:00|\n",
      "|2017-10-29 18:20:30|         1.0|              B17| EASTERN PY/UTICA AV|40.668537| -73.93124| CANARSIE SEAVIEW AV|     40.638924|      -73.88155| NYCT_4853|               40.638542|                -73.88222| SEAVIEW AV/E 108 ST|         approaching|              70|2017-10-29 18:20:41|            18:16:00|\n",
      "|2017-10-29 18:20:14|         1.0|          B46-SBS|MALCOLM X BL/DE K...| 40.69311|-73.931175|SELECT BUS  KINGS...|      40.60914|      -73.92144| NYCT_7310|               40.678364|               -73.929985| UTICA AV/EASTERN PY|      0.7 miles away|            1167|2017-10-29 18:26:57|            18:22:18|\n",
      "+-------------------+------------+-----------------+--------------------+---------+----------+--------------------+--------------+---------------+----------+------------------------+-------------------------+--------------------+--------------------+----------------+-------------------+--------------------+\n",
      "only showing top 20 rows\n",
      "\n"
     ]
    }
   ],
   "source": [
    "# Load the CSV file with the defined schema\n",
    "df3 = spark.read.csv(\n",
    "    'hdfs:///user/root/milestone2/mta_1710.csv',\n",
    "    schema=schema,\n",
    "    header=False,\n",
    "    mode=\"DROPMALFORMED\"  # skips malformed rows\n",
    ")\n",
    "# show the few rows of the dataset\n",
    "df3.show()"
   ]
  },
  {
   "cell_type": "code",
   "execution_count": 62,
   "metadata": {
    "tags": []
   },
   "outputs": [
    {
     "name": "stdout",
     "output_type": "stream",
     "text": [
      "+-------+-------------------+------------------+-----------------+------------------+-------------------+-------------------+--------------------+-------------------+------------------+----------+------------------------+-------------------------+-----------------+--------------------+------------------+-------------------+--------------------+\n",
      "|summary|     RecordedAtTime|      DirectionRef|PublishedLineName|        OriginName|          OriginLat|         OriginLong|     DestinationName|     DestinationLat|   DestinationLong|VehicleRef|VehicleLocation_Latitude|VehicleLocation_Longitude|NextStopPointName|ArrivalProximityText|  DistanceFromStop|ExpectedArrivalTime|ScheduledArrivalTime|\n",
      "+-------+-------------------+------------------+-----------------+------------------+-------------------+-------------------+--------------------+-------------------+------------------+----------+------------------------+-------------------------+-----------------+--------------------+------------------+-------------------+--------------------+\n",
      "|  count|               4978|              4978|             4978|              4978|               4978|               4978|                4978|               4978|              4978|      4978|                    4978|                     4978|             4978|                4978|              4978|               4978|                4978|\n",
      "|   mean|               null|0.4911611088790679|             null|              null| 40.735951286858466| -73.93149164643523|                null| 40.734502810749866|-73.92980367431396|      null|        40.7347775647419|        -73.9303866471091|             null|                null|183.41743672157492|               null|                null|\n",
      "| stddev|               null|0.4999720885901877|             null|              null|0.08916937016502291|0.08578861694821696|                null|0.09075835583452241|0.0877560269798667|      null|     0.08696101027832014|      0.08229315751166119|             null|                null| 585.4337444934143|               null|                null|\n",
      "|    min|2017-10-29 18:20:02|               0.0|               B1|       1 AV/125 ST|            40.5301|         -74.226295| 125 ST ST. NICHOLAS|           40.53006|        -74.226654| NYCT_1201|               40.504612|               -74.244896|    1 AV/ E 97 ST|      0.5 miles away|                 0|2017-10-29 18:20:37|            17:25:00|\n",
      "|    max|2017-10-29 18:59:49|               1.0|              X28|YUKON AV/KMART DWY|           40.91236|         -73.701866|YORKVILLE 91 ST v...|          40.912376|         -73.70146| NYCT_8503|               40.912334|                -73.70156|    sbs60-q48-geo|             at stop|             10458|                 NA|                  NA|\n",
      "+-------+-------------------+------------------+-----------------+------------------+-------------------+-------------------+--------------------+-------------------+------------------+----------+------------------------+-------------------------+-----------------+--------------------+------------------+-------------------+--------------------+\n",
      "\n"
     ]
    }
   ],
   "source": [
    "# Rename the columns\n",
    "df3 = df3.withColumnRenamed(\"VehicleLocation.Latitude\", \"VehicleLocation_Latitude\") \\\n",
    "         .withColumnRenamed(\"VehicleLocation.Longitude\", \"VehicleLocation_Longitude\")\n",
    "\n",
    "# Use describe to validate data\n",
    "# Convert the Spark DataFrame summary to a Pandas DataFrame\n",
    "df3.describe().show()"
   ]
  },
  {
   "cell_type": "code",
   "execution_count": 63,
   "metadata": {
    "tags": []
   },
   "outputs": [
    {
     "name": "stdout",
     "output_type": "stream",
     "text": [
      "+-------------------+------------+-----------------+--------------------+---------+----------+--------------------+--------------+---------------+----------+------------------------+-------------------------+--------------------+--------------------+----------------+-------------------+--------------------+\n",
      "|     RecordedAtTime|DirectionRef|PublishedLineName|          OriginName|OriginLat|OriginLong|     DestinationName|DestinationLat|DestinationLong|VehicleRef|VehicleLocation.Latitude|VehicleLocation.Longitude|   NextStopPointName|ArrivalProximityText|DistanceFromStop|ExpectedArrivalTime|ScheduledArrivalTime|\n",
      "+-------------------+------------+-----------------+--------------------+---------+----------+--------------------+--------------+---------------+----------+------------------------+-------------------------+--------------------+--------------------+----------------+-------------------+--------------------+\n",
      "|2017-12-31 23:15:32|         1.0|              B41|CADMAN PLAZA WEST...|40.695534| -73.99083|BERGEN BCH VETERA...|     40.620052|       -73.9082| NYCT_4595|               40.625683|                -73.94012|    FLATBUSH AV/AV K|         approaching|             107|2017-12-31 23:15:53|            22:54:45|\n",
      "|2017-12-31 23:15:48|         1.0|              B46|WASHINGTON PLZ/LANE3|40.709393| -73.95952|KINGS PLAZA via U...|      40.60914|      -73.92144| NYCT_4578|               40.684826|                -73.92946|MALCOLM X BL/HALS...|         approaching|             107|2017-12-31 23:16:11|            23:09:41|\n",
      "|2017-12-31 23:15:50|         1.0|              B46|WASHINGTON PLZ/LANE3|40.709393| -73.95952|KINGS PLAZA via U...|      40.60914|      -73.92144| NYCT_4579|               40.653435|               -73.930565|  UTICA AV/CHURCH AV|       < 1 stop away|             228|2017-12-31 23:16:54|            23:06:00|\n",
      "|2017-12-31 23:15:48|         1.0|              B41|CADMAN PLAZA WEST...|40.695534| -73.99083|BERGEN BCH VETERA...|     40.620052|       -73.9082| NYCT_4577|               40.640465|                 -73.9556|FLATBUSH AV/DITMA...|             at stop|              16|2017-12-31 23:15:53|            23:15:21|\n",
      "|2017-12-31 23:15:45|         0.0|              B41|FLATBUSH AV/KINGS...| 40.60925| -73.92154|DNTWN BKLYN CADMA...|     40.695408|      -73.99078| NYCT_4580|               40.632687|                -73.94752|FLATBUSH AV/NOSTR...|             at stop|               9|2017-12-31 23:15:53|            23:07:00|\n",
      "|2017-12-31 23:15:41|         0.0|              B46|         KINGS PLAZA|40.609566|-73.921814|BRIDGE PLZ via UTICA|     40.709404|     -73.959564| NYCT_4584|                40.62578|               -73.927605|       UTICA AV/AV J|       < 1 stop away|             303|2017-12-31 23:16:37|            23:12:20|\n",
      "|2017-12-31 23:15:47|         0.0|             M14D|       11 AV/W 17 ST|40.744843| -74.00815|LOWER E. SIDE DEL...|     40.716393|      -73.98013| NYCT_5899|                40.71629|               -73.980034|DELANCY ST/COLUMB...|             at stop|              11|2017-12-31 23:15:53|            22:58:00|\n",
      "|2017-12-31 23:15:45|         0.0|              B48|LINCOLN RD/FLATBU...|40.660664| -73.96237|GREENPOINT MEEKER AV|     40.726635|     -73.934326| NYCT_4566|                40.66327|                -73.96117|WASHINGTON AV/SUL...|         approaching|             138|2017-12-31 23:16:22|            23:12:05|\n",
      "|2017-12-31 23:15:47|         1.0|             Bx11|W FARMS RD/WESTCH...|40.825047| -73.89156|WASHINGTON HEIGHT...|     40.849033|      -73.93731|  NYCT_696|               40.840263|                -73.92465|PLIMPTON AV/W 170 ST|         approaching|             144|2017-12-31 23:16:28|            23:01:22|\n",
      "|2017-12-31 23:15:44|         0.0|             Bx36|   W 179 ST/BROADWAY|40.849113| -73.93775|SOUNDVIEW PUGSLEY AV|     40.820507|      -73.85163|  NYCT_694|                40.84263|                -73.87819|  BOSTON RD/E 180 ST|             at stop|              13|2017-12-31 23:15:53|            23:11:25|\n",
      "|2017-12-31 23:15:26|         0.0|             Bx11|   W 179 ST/BROADWAY|40.849113| -73.93775|W FARMS RD SOUTHE...|      40.82527|      -73.89143|  NYCT_684|               40.840298|                -73.92525|   OGDEN AV/W 169 ST|             at stop|               6|2017-12-31 23:15:53|            23:14:03|\n",
      "|2017-12-31 23:15:26|         0.0|             Bx17|E 135 ST/ST ANN'S AV|  40.8049| -73.91868|         FORDHAM PLZ|      40.86006|     -73.890976|  NYCT_689|                40.82446|               -73.899635|PROSPECT AV/E 166 ST|         approaching|             131|2017-12-31 23:16:06|            23:15:23|\n",
      "|2017-12-31 23:15:52|         0.0|             Bx11|   W 179 ST/BROADWAY|40.849113| -73.93775|W FARMS RD SOUTHE...|      40.82527|      -73.89143|  NYCT_687|               40.832947|                -73.89294|JENNINGS ST/SOUTH...|       < 1 stop away|             264|2017-12-31 23:16:56|            23:13:48|\n",
      "|2017-12-31 23:15:48|         0.0|             Bx31|  TREMONT AV/LANE AV|40.840862| -73.84246| WOODLAWN KATONAH AV|      40.90278|      -73.86832|  NYCT_680|                40.85055|                -73.84471|EASTCHESTER RD/MO...|         approaching|              99|2017-12-31 23:16:09|            23:15:18|\n",
      "|2017-12-31 23:15:42|         1.0|             Bx36|RANDALL AV/OLMSTE...|40.818676|-73.851555|WASHINGTON HTS GW...|     40.849033|      -73.93731|  NYCT_674|               40.849266|                -73.90565|E TREMONT AV/GRAN...|             at stop|               0|2017-12-31 23:15:53|            22:55:00|\n",
      "|2017-12-31 23:15:29|         0.0|              Bx6|RIVERSIDE DR W/15...| 40.83631| -73.94843|         HUNTS POINT|      40.81001|     -73.876434|  NYCT_678|               40.810165|               -73.875275|FOOD CENTER DR/TE...|         approaching|              99|2017-12-31 23:16:02|            23:16:00|\n",
      "|2017-12-31 23:15:44|         0.0|          M60-SBS|   BROADWAY/W 106 ST| 40.80182| -73.96764|SELECT BUS SERVIC...|     40.768074|      -73.86209| NYCT_5847|               40.803795|                -73.96685|   BROADWAY/W 116 ST|       < 1 stop away|             530|2017-12-31 23:17:17|                  NA|\n",
      "|2017-12-31 23:15:45|         1.0|          M79-SBS| E 79 ST/EAST END AV| 40.77074|-73.948715|SELECT BUS W SIDE...|      40.78499|      -73.98246| NYCT_5848|               40.772137|                -73.95221|        E 79 ST/1 AV|             at stop|              26|2017-12-31 23:15:53|            23:16:01|\n",
      "|2017-12-31 23:15:37|         0.0|             Bx38|VALENTINE AV/E 19...|40.864075|-73.894615|CO-OP CITY BAY PL...|     40.867348|      -73.82457| NYCT_4515|                40.86999|                -73.84532|E GUN HILL RD/DEW...|             at stop|               0|2017-12-31 23:15:53|            23:08:42|\n",
      "|2017-12-31 23:15:30|         1.0|              B20|PUTNAM AV/FAIRVIE...| 40.70474|-73.902275|SPRING CREEK STAN...|     40.664642|      -73.86307| NYCT_4518|               40.666084|                -73.89439|PENNSYLVANIA AV/D...|             at stop|               3|2017-12-31 23:15:53|            23:13:36|\n",
      "+-------------------+------------+-----------------+--------------------+---------+----------+--------------------+--------------+---------------+----------+------------------------+-------------------------+--------------------+--------------------+----------------+-------------------+--------------------+\n",
      "only showing top 20 rows\n",
      "\n"
     ]
    }
   ],
   "source": [
    "# Load the CSV file with the defined schema\n",
    "df4 = spark.read.csv(\n",
    "    'hdfs:///user/root/milestone2/mta_1712.csv',\n",
    "    schema=schema,\n",
    "    header=False,\n",
    "    mode=\"DROPMALFORMED\"  # skips malformed rows\n",
    ")\n",
    "\n",
    "# show the few rows of the dataset\n",
    "df4.show()"
   ]
  },
  {
   "cell_type": "code",
   "execution_count": 64,
   "metadata": {
    "tags": []
   },
   "outputs": [
    {
     "name": "stdout",
     "output_type": "stream",
     "text": [
      "+-------+-------------------+------------------+-----------------+------------------+-------------------+-------------------+--------------------+-------------------+------------------+----------+------------------------+-------------------------+-----------------+--------------------+------------------+-------------------+--------------------+\n",
      "|summary|     RecordedAtTime|      DirectionRef|PublishedLineName|        OriginName|          OriginLat|         OriginLong|     DestinationName|     DestinationLat|   DestinationLong|VehicleRef|VehicleLocation_Latitude|VehicleLocation_Longitude|NextStopPointName|ArrivalProximityText|  DistanceFromStop|ExpectedArrivalTime|ScheduledArrivalTime|\n",
      "+-------+-------------------+------------------+-----------------+------------------+-------------------+-------------------+--------------------+-------------------+------------------+----------+------------------------+-------------------------+-----------------+--------------------+------------------+-------------------+--------------------+\n",
      "|  count|               2573|              2573|             2573|              2573|               2573|               2573|                2573|               2573|              2573|      2573|                    2573|                     2573|             2573|                2573|              2573|               2573|                2573|\n",
      "|   mean|               null|0.5021375825884182|             null|              null|  40.72989973890332| -73.92795523900352|                null| 40.729054260846944|-73.92789535136988|      null|       40.72935352258723|       -73.92724104998781|             null|                null|159.66070734551107|               null|                null|\n",
      "| stddev|               null|0.5000926210075715|             null|              null|0.08753065671830797|0.08696532624396605|                null|0.09034278424219075|0.0888627391464947|      null|     0.08652871990319874|      0.08328457597159965|             null|                null| 451.8182089443875|               null|                null|\n",
      "|    min|2017-12-31 23:14:53|               0.0|               B1|       1 AV/125 ST|            40.5301|         -74.226295| 125 ST ST. NICHOLAS|           40.53006|        -74.226654| NYCT_1209|               40.507915|                -74.25072|      1 AV / 4 ST|      0.5 miles away|                 0|2017-12-31 23:15:53|            00:01:09|\n",
      "|    max|2017-12-31 23:55:55|               1.0|              X10|YUKON AV/KMART DWY|           40.91236|         -73.701866|YORKVILLE 91 ST v...|          40.912376|         -73.70146| NYCT_8501|               40.912388|                -73.70157|west st/morris st|             at stop|             10053|                 NA|                  NA|\n",
      "+-------+-------------------+------------------+-----------------+------------------+-------------------+-------------------+--------------------+-------------------+------------------+----------+------------------------+-------------------------+-----------------+--------------------+------------------+-------------------+--------------------+\n",
      "\n"
     ]
    }
   ],
   "source": [
    "# Rename the columns\n",
    "df4 = df4.withColumnRenamed(\"VehicleLocation.Latitude\", \"VehicleLocation_Latitude\") \\\n",
    "         .withColumnRenamed(\"VehicleLocation.Longitude\", \"VehicleLocation_Longitude\")\n",
    "\n",
    "# Use describe to validate data\n",
    "# Convert the Spark DataFrame summary to a Pandas DataFrame\n",
    "df4.describe().show()"
   ]
  },
  {
   "cell_type": "code",
   "execution_count": 65,
   "metadata": {
    "tags": []
   },
   "outputs": [],
   "source": [
    "#concatenate the datasets into one\n",
    "from functools import reduce\n",
    "from pyspark.sql import DataFrame\n",
    "\n",
    "dataframes = [df1, df2, df3, df4]\n",
    "con_df = reduce(DataFrame.unionAll, dataframes)"
   ]
  },
  {
   "cell_type": "code",
   "execution_count": 66,
   "metadata": {
    "tags": []
   },
   "outputs": [
    {
     "name": "stdout",
     "output_type": "stream",
     "text": [
      "+-------------------+------------+-----------------+--------------------+---------+----------+--------------------+--------------+---------------+----------+------------------------+-------------------------+--------------------+--------------------+----------------+-------------------+--------------------+\n",
      "|     RecordedAtTime|DirectionRef|PublishedLineName|          OriginName|OriginLat|OriginLong|     DestinationName|DestinationLat|DestinationLong|VehicleRef|VehicleLocation_Latitude|VehicleLocation_Longitude|   NextStopPointName|ArrivalProximityText|DistanceFromStop|ExpectedArrivalTime|ScheduledArrivalTime|\n",
      "+-------------------+------------+-----------------+--------------------+---------+----------+--------------------+--------------+---------------+----------+------------------------+-------------------------+--------------------+--------------------+----------------+-------------------+--------------------+\n",
      "|2017-06-29 07:59:54|         1.0|              Bx9|   BROADWAY/W 262 ST|40.910107| -73.89673|          WEST FARMS|      40.84064|      -73.87981| NYCT_4750|                40.87047|                -73.90445|W KINGSBRIDGE RD/...|             at stop|               1|                 NA|            08:00:01|\n",
      "|2017-06-29 08:00:11|         1.0|          B44-SBS|  LEE AV/FLUSHING AV|40.699505| -73.95348|SELECT BUS SERVIC...|     40.593864|      -73.94067| NYCT_5336|                40.68564|                -73.95062|NOSTRAND AV/FULTO...|       < 1 stop away|             638|2017-06-29 08:02:28|            07:15:35|\n",
      "|2017-06-29 08:00:01|         0.0|              M42|         12 AV/42 ST| 40.76215| -74.00144| UN - 1 AV CROSSTOWN|     40.748005|       -73.9698| NYCT_6741|                40.74865|                -73.96961|        E 42 ST/1 AV|             at stop|               0|                 NA|            08:00:39|\n",
      "|2017-06-29 08:00:15|         0.0|              M57|    W 72 ST/BROADWAY|40.779034|-73.982414|EAST SIDE YORK - ...|     40.759518|      -73.95989| NYCT_3813|               40.758358|                -73.96305|        1 AV/E 57 ST|         approaching|              81|2017-06-29 08:00:51|            07:53:35|\n",
      "|2017-06-29 07:59:53|         0.0|               X8|ELTINGVILLE/TRANS...| 40.56076| -74.17109|DOWNTOWN FRANKFRT...|     40.709305|     -74.001755| NYCT_2759|               40.598442|                -74.06336|LILY POND AV/MC C...|         approaching|              88|2017-06-29 08:00:33|            08:00:00|\n",
      "|2017-06-29 08:10:42|         1.0|             Q20B| 15 AV/COLLEGE PT BL| 40.78421| -73.84536|JAMAICA MERRICK B...|     40.704933|      -73.79332| NYCT_7424|               40.784733|                 -73.8429|        15 AV/127 ST|         approaching|             134|2017-06-29 08:11:16|            08:06:34|\n",
      "|2017-06-29 08:10:40|         1.0|               M5|   BROADWAY/W 178 ST|40.848522|-73.937706|  LIMITED 31 ST 6 AV|      40.74779|      -73.98883| NYCT_3846|               40.820175|                -73.95526|   W 135 ST/BROADWAY|         approaching|              47|2017-06-29 08:11:08|            08:11:00|\n",
      "|2017-06-29 08:10:47|         0.0|              B68|STILLWELL TERMINA...|40.577038| -73.98144|WINDSOR TERR PRTC...|     40.660854|      -73.97939|  NYCT_406|                40.57703|                -73.98153|NEPTUNE AV/STILLW...|       < 1 stop away|             281|2017-06-29 08:11:27|            08:12:34|\n",
      "|2017-06-29 08:10:42|         1.0|              B63|BROOKLYN BRIDGE P...|40.692036|-74.000534|BAY RIDGE SHORE R...|     40.612312|      -74.03598|  NYCT_430|               40.612156|                -74.03567|       SHORE RD/3 AV|         approaching|             117|                 NA|                  NA|\n",
      "|2017-06-29 08:11:06|         1.0|               X1| CENTRAL PARK S/6 AV|40.766315| -73.97749|ELTNGVLE TRANST C...|     40.560837|      -74.17112| NYCT_2693|                40.75569|                -73.97927|        5 AV/W 41 ST|       < 1 stop away|             404|2017-06-29 08:12:40|            08:14:00|\n",
      "|2017-06-29 08:10:55|         0.0|              Q46|     QUEENS BL/78 AV|40.715233| -73.83202|LTD LK SUCCESS LI...|     40.754894|      -73.70659| NYCT_6449|                40.75478|                 -73.7068|LIJ MEDICAL CTR/2...|             at stop|              21|2017-06-29 08:11:08|            08:11:00|\n",
      "|2017-06-29 08:10:34|         1.0|              Q27|        138 ST/37 AV|40.761806| -73.82956|LTD CAMBRIA HEIGH...|     40.692406|      -73.74522| NYCT_4663|               40.712563|                -73.73617|SPRINGFIELD BL/HO...|         approaching|              66|2017-06-29 08:11:08|            08:10:31|\n",
      "|2017-06-29 08:10:54|         1.0|               Q5|FRANCIS LEWIS BL/...|40.666046| -73.73596|LTD JAMAICA PARSO...|     40.701683|     -73.802475| NYCT_8422|               40.701546|                -73.80373|    TEARDROP/LAYOVER|       < 1 stop away|             206|2017-06-29 08:12:54|            08:04:00|\n",
      "|2017-06-29 08:11:03|         0.0|             Bx18|SEDGWICK AV/HARLE...| 40.85202| -73.92066|      170 ST CONCRSE|     40.838512|      -73.91358| NYCT_4223|                40.83855|                -73.91356|E 170 ST/GRAND CO...|             at stop|              12|                 NA|                  NA|\n",
      "|2017-06-29 08:10:53|         1.0|              S93|          4 AV/87 ST|40.621918| -74.02879|LTD WILLWBROOK CO...|     40.598827|      -74.15176| NYCT_7080|               40.612286|                -74.13539|VICTORY BL/INGRAM AV|         approaching|              89|2017-06-29 08:11:08|            08:14:25|\n",
      "|2017-06-29 08:10:41|         0.0|              X22|  HYLAN BL/BEDELL AV| 40.50688| -74.23298|E MIDTOWN 57 ST v...|     40.759876|      -73.96683| NYCT_2300|               40.744637|                -74.12159|        W 34 ST/9 AV|      9.1 miles away|           14579|2017-06-29 08:27:04|            08:40:00|\n",
      "|2017-06-29 08:10:37|         1.0|         Bx41-SBS|WHITE PLAINS RD/E...|40.877853| -73.86667|SELECT BUS SERVIC...|      40.81687|      -73.91751| NYCT_5781|               40.823666|                -73.91412| MELROSE AV/E 150 ST|      0.5 miles away|             807|2017-06-29 08:13:23|            08:15:00|\n",
      "|2017-06-29 08:11:01|         1.0|               Q2|    HOLLIS AV/207 ST|40.707623| -73.75026| JAMAICA 165 ST TERM|     40.707615|      -73.79554| NYCT_8024|               40.707645|                -73.79545| HEMPSTEAD AV/225 ST|      3.4 miles away|            5497|                 NA|                  NA|\n",
      "|2017-06-29 08:10:54|         0.0|              Q43|ARCHER AV/SUTPHIN BL|40.700504| -73.80782|FLORAL PARK 268 S...|       40.7387|     -73.701454| NYCT_8484|               40.711826|                 -73.7899|  HILLSIDE AV/173 ST|         approaching|              96|2017-06-29 08:11:17|            08:06:49|\n",
      "|2017-06-29 08:10:40|         1.0|               B8|ROCKAWAY AV/HEGEM...|40.655903| -73.90732| BAY RIDGE 95 ST STA|      40.61626|      -74.03113|  NYCT_345|               40.619553|                -73.98975|         18 AV/64 ST|             at stop|              10|2017-06-29 08:11:08|            08:14:24|\n",
      "+-------------------+------------+-----------------+--------------------+---------+----------+--------------------+--------------+---------------+----------+------------------------+-------------------------+--------------------+--------------------+----------------+-------------------+--------------------+\n",
      "only showing top 20 rows\n",
      "\n"
     ]
    }
   ],
   "source": [
    "con_df.show()"
   ]
  },
  {
   "cell_type": "markdown",
   "metadata": {
    "tags": []
   },
   "source": [
    "### Descriptive Statistics"
   ]
  },
  {
   "cell_type": "code",
   "execution_count": 67,
   "metadata": {
    "tags": []
   },
   "outputs": [
    {
     "name": "stdout",
     "output_type": "stream",
     "text": [
      "+-------+-------------------+-------------------+-----------------+------------------+------------------+-------------------+--------------------+-------------------+-------------------+----------+------------------------+-------------------------+-----------------+--------------------+------------------+-------------------+--------------------+\n",
      "|summary|     RecordedAtTime|       DirectionRef|PublishedLineName|        OriginName|         OriginLat|         OriginLong|     DestinationName|     DestinationLat|    DestinationLong|VehicleRef|VehicleLocation_Latitude|VehicleLocation_Longitude|NextStopPointName|ArrivalProximityText|  DistanceFromStop|ExpectedArrivalTime|ScheduledArrivalTime|\n",
      "+-------+-------------------+-------------------+-----------------+------------------+------------------+-------------------+--------------------+-------------------+-------------------+----------+------------------------+-------------------------+-----------------+--------------------+------------------+-------------------+--------------------+\n",
      "|  count|              17477|              17477|            17477|             17477|             17477|              17477|               17477|              17477|              17477|     17477|                   17477|                    17477|            17477|               17477|             17477|              17477|               17477|\n",
      "|   mean|               null| 0.4944212393431367|             null|              null|   40.730101719242|  -73.9334730360146|                null|  40.73295311082819| -73.93152922064829|      null|      40.731122650270464|       -73.93200991528458|             null|                null|205.97167706128053|               null|                null|\n",
      "| stddev|               null|0.49998318069879777|             null|              null|0.0914245725813938|0.09338574249655864|                null|0.08852164393501792|0.08838473692537595|      null|     0.08680048421758615|      0.08579338411481495|             null|                null| 750.9412237336835|               null|                null|\n",
      "|    min|2017-06-29 07:59:53|                0.0|               B1|       1 AV/125 ST|          40.50688|          -74.24695| 125 ST ST. NICHOLAS|          40.508106|          -74.24695| NYCT_1200|               40.502884|                -74.25214|      1 AV / 4 ST|      0.5 miles away|                 0|2017-06-29 08:00:33|            00:01:09|\n",
      "|    max|2017-12-31 23:55:55|                1.0|               X9|YUKON AV/KMART DWY|         40.912365|         -73.701866|YORKVILLE 91 ST v...|          40.912376|         -73.701454| NYCT_9674|               40.912388|                -73.70155|west st/morris st|             at stop|             30532|                 NA|                  NA|\n",
      "+-------+-------------------+-------------------+-----------------+------------------+------------------+-------------------+--------------------+-------------------+-------------------+----------+------------------------+-------------------------+-----------------+--------------------+------------------+-------------------+--------------------+\n",
      "\n"
     ]
    }
   ],
   "source": [
    "# Descriptive statistics for numerical columns\n",
    "con_df.describe().show()"
   ]
  },
  {
   "cell_type": "markdown",
   "metadata": {
    "tags": []
   },
   "source": [
    "### Identify Outliers"
   ]
  },
  {
   "cell_type": "markdown",
   "metadata": {},
   "source": [
    "for example we want to identify the outliers of column [DistanceFromStop]"
   ]
  },
  {
   "cell_type": "code",
   "execution_count": 68,
   "metadata": {
    "tags": []
   },
   "outputs": [
    {
     "name": "stdout",
     "output_type": "stream",
     "text": [
      "Number of outliers in DistanceFromStop: 1101\n"
     ]
    }
   ],
   "source": [
    "from pyspark.sql.functions import col, expr\n",
    "\n",
    "# Assuming 'DistanceFromStop' is the column you are interested in\n",
    "column_name = 'DistanceFromStop'\n",
    "\n",
    "# Calculate the bounds for detecting outliers\n",
    "bounds = con_df.approxQuantile(column_name, [0.25, 0.75], 0.05)\n",
    "IQR = bounds[1] - bounds[0]\n",
    "lower_bound = bounds[0] - 1.5 * IQR\n",
    "upper_bound = bounds[1] + 1.5 * IQR\n",
    "\n",
    "# Filter outliers based on the calculated bounds\n",
    "outliers = con_df.filter((col(column_name) < lower_bound) | (col(column_name) > upper_bound))\n",
    "outlier_count = outliers.count()\n",
    "\n",
    "print(f\"Number of outliers in {column_name}: {outlier_count}\")"
   ]
  },
  {
   "cell_type": "markdown",
   "metadata": {
    "tags": []
   },
   "source": [
    "### Missing Data Analysis"
   ]
  },
  {
   "cell_type": "code",
   "execution_count": 69,
   "metadata": {
    "tags": []
   },
   "outputs": [
    {
     "name": "stdout",
     "output_type": "stream",
     "text": [
      "+--------------+------------+-----------------+----------+---------+----------+---------------+--------------+---------------+----------+------------------------+-------------------------+-----------------+--------------------+----------------+-------------------+--------------------+\n",
      "|RecordedAtTime|DirectionRef|PublishedLineName|OriginName|OriginLat|OriginLong|DestinationName|DestinationLat|DestinationLong|VehicleRef|VehicleLocation_Latitude|VehicleLocation_Longitude|NextStopPointName|ArrivalProximityText|DistanceFromStop|ExpectedArrivalTime|ScheduledArrivalTime|\n",
      "+--------------+------------+-----------------+----------+---------+----------+---------------+--------------+---------------+----------+------------------------+-------------------------+-----------------+--------------------+----------------+-------------------+--------------------+\n",
      "|             0|           0|                0|         0|        0|         0|              0|             0|              0|         0|                       0|                        0|                0|                   0|               0|                  0|                   0|\n",
      "+--------------+------------+-----------------+----------+---------+----------+---------------+--------------+---------------+----------+------------------------+-------------------------+-----------------+--------------------+----------------+-------------------+--------------------+\n",
      "\n"
     ]
    }
   ],
   "source": [
    "from pyspark.sql.functions import isnull, col, sum as _sum\n",
    "\n",
    "con_df.select([_sum(isnull(c).cast(\"int\")).alias(c) for c in con_df.columns]).show()"
   ]
  },
  {
   "cell_type": "markdown",
   "metadata": {},
   "source": [
    "As we can see there is no null value."
   ]
  },
  {
   "cell_type": "markdown",
   "metadata": {
    "tags": []
   },
   "source": [
    "### Duplicate Value Analysis"
   ]
  },
  {
   "cell_type": "code",
   "execution_count": 70,
   "metadata": {
    "tags": []
   },
   "outputs": [
    {
     "name": "stdout",
     "output_type": "stream",
     "text": [
      "Original count: 17498\n",
      "Distinct count: 17477\n",
      "There are duplicates in the DataFrame.\n"
     ]
    }
   ],
   "source": [
    "# Original count\n",
    "original_count = con_df.count()\n",
    "\n",
    "# Count after removing duplicates\n",
    "distinct_count = con_df.distinct().count()\n",
    "\n",
    "# Print results\n",
    "print(f\"Original count: {original_count}\")\n",
    "print(f\"Distinct count: {distinct_count}\")\n",
    "if original_count != distinct_count:\n",
    "    print(\"There are duplicates in the DataFrame.\")\n",
    "else:\n",
    "    print(\"No duplicates found.\")"
   ]
  },
  {
   "cell_type": "code",
   "execution_count": 71,
   "metadata": {
    "tags": []
   },
   "outputs": [
    {
     "data": {
      "text/plain": [
       "17477"
      ]
     },
     "execution_count": 71,
     "metadata": {},
     "output_type": "execute_result"
    }
   ],
   "source": [
    "# remove the duplicates\n",
    "con_df = con_df.dropDuplicates().na.drop()\n",
    "con_df.count()"
   ]
  },
  {
   "cell_type": "markdown",
   "metadata": {
    "tags": []
   },
   "source": [
    "### Histogram of DistanceFromStop"
   ]
  },
  {
   "cell_type": "code",
   "execution_count": 72,
   "metadata": {
    "tags": []
   },
   "outputs": [],
   "source": [
    "# Enable Arrow-based columnar data transfers for better performance\n",
    "spark.conf.set(\"spark.sql.execution.arrow.enabled\", \"true\")\n",
    "\n",
    "# Convert to Pandas DataFrame\n",
    "pdf = con_df.toPandas()\n",
    "\n",
    "import matplotlib.pyplot as plt\n",
    "import seaborn as sns\n",
    "\n",
    "# Set the aesthetic style of the plots\n",
    "sns.set_style(\"whitegrid\")"
   ]
  },
  {
   "cell_type": "code",
   "execution_count": 73,
   "metadata": {
    "tags": []
   },
   "outputs": [
    {
     "name": "stdout",
     "output_type": "stream",
     "text": [
      "Requirement already up-to-date: seaborn in /opt/conda/anaconda/lib/python3.7/site-packages (0.12.2)\n",
      "Requirement already satisfied, skipping upgrade: pandas>=0.25 in /opt/conda/anaconda/lib/python3.7/site-packages (from seaborn) (1.2.5)\n",
      "Requirement already satisfied, skipping upgrade: typing_extensions; python_version < \"3.8\" in /opt/conda/anaconda/lib/python3.7/site-packages (from seaborn) (4.7.1)\n",
      "Requirement already satisfied, skipping upgrade: matplotlib!=3.6.1,>=3.1 in /opt/conda/anaconda/lib/python3.7/site-packages (from seaborn) (3.1.1)\n",
      "Requirement already satisfied, skipping upgrade: numpy!=1.24.0,>=1.17 in /opt/conda/anaconda/lib/python3.7/site-packages (from seaborn) (1.17.2)\n",
      "Requirement already satisfied, skipping upgrade: pytz>=2017.3 in /opt/conda/anaconda/lib/python3.7/site-packages (from pandas>=0.25->seaborn) (2019.3)\n",
      "Requirement already satisfied, skipping upgrade: python-dateutil>=2.7.3 in /opt/conda/anaconda/lib/python3.7/site-packages (from pandas>=0.25->seaborn) (2.8.0)\n",
      "Requirement already satisfied, skipping upgrade: cycler>=0.10 in /opt/conda/anaconda/lib/python3.7/site-packages (from matplotlib!=3.6.1,>=3.1->seaborn) (0.10.0)\n",
      "Requirement already satisfied, skipping upgrade: kiwisolver>=1.0.1 in /opt/conda/anaconda/lib/python3.7/site-packages (from matplotlib!=3.6.1,>=3.1->seaborn) (1.1.0)\n",
      "Requirement already satisfied, skipping upgrade: pyparsing!=2.0.4,!=2.1.2,!=2.1.6,>=2.0.1 in /opt/conda/anaconda/lib/python3.7/site-packages (from matplotlib!=3.6.1,>=3.1->seaborn) (2.4.2)\n",
      "Requirement already satisfied, skipping upgrade: six>=1.5 in /opt/conda/anaconda/lib/python3.7/site-packages (from python-dateutil>=2.7.3->pandas>=0.25->seaborn) (1.15.0)\n",
      "Requirement already satisfied, skipping upgrade: setuptools in /opt/conda/anaconda/lib/python3.7/site-packages (from kiwisolver>=1.0.1->matplotlib!=3.6.1,>=3.1->seaborn) (41.4.0)\n"
     ]
    },
    {
     "name": "stderr",
     "output_type": "stream",
     "text": [
      "/opt/conda/anaconda/lib/python3.7/site-packages/matplotlib/cbook/__init__.py:1402: FutureWarning: Support for multi-dimensional indexing (e.g. `obj[:, None]`) is deprecated and will be removed in a future version.  Convert to a numpy array before indexing instead.\n",
      "  x[:, None]\n",
      "/opt/conda/anaconda/lib/python3.7/site-packages/matplotlib/axes/_base.py:276: FutureWarning: Support for multi-dimensional indexing (e.g. `obj[:, None]`) is deprecated and will be removed in a future version.  Convert to a numpy array before indexing instead.\n",
      "  x = x[:, np.newaxis]\n",
      "/opt/conda/anaconda/lib/python3.7/site-packages/matplotlib/axes/_base.py:278: FutureWarning: Support for multi-dimensional indexing (e.g. `obj[:, None]`) is deprecated and will be removed in a future version.  Convert to a numpy array before indexing instead.\n",
      "  y = y[:, np.newaxis]\n"
     ]
    },
    {
     "data": {
      "image/png": "[encoded data removed]",
      "text/plain": [
       "<Figure size 720x432 with 1 Axes>"
      ]
     },
     "metadata": {},
     "output_type": "display_data"
    }
   ],
   "source": [
    "!pip install --upgrade seaborn\n",
    "import seaborn as sns\n",
    "\n",
    "plt.figure(figsize=(10, 6))\n",
    "sns.histplot(pdf['DistanceFromStop'], kde=True, color='blue', bins=30)\n",
    "plt.title('Distribution of Distance From Stop')\n",
    "plt.xlabel('Distance From Stop')\n",
    "plt.ylabel('Frequency')\n",
    "plt.show()\n"
   ]
  },
  {
   "cell_type": "markdown",
   "metadata": {
    "tags": []
   },
   "source": [
    "### Scatter Plot to Explore Correlations"
   ]
  },
  {
   "cell_type": "code",
   "execution_count": 74,
   "metadata": {
    "tags": []
   },
   "outputs": [
    {
     "data": {
      "image/png": "[encoded data removed]",
      "text/plain": [
       "<Figure size 720x432 with 1 Axes>"
      ]
     },
     "metadata": {},
     "output_type": "display_data"
    }
   ],
   "source": [
    "plt.figure(figsize=(10, 6))\n",
    "sns.scatterplot(x='OriginLat', y='DistanceFromStop', data=pdf, hue='DirectionRef', style='DirectionRef', palette='deep')\n",
    "plt.title('Distance From Stop vs. Origin Latitude')\n",
    "plt.xlabel('Origin Latitude')\n",
    "plt.ylabel('Distance From Stop')\n",
    "plt.legend(title='Direction Reference')\n",
    "plt.show()\n"
   ]
  },
  {
   "cell_type": "markdown",
   "metadata": {},
   "source": [
    "### Address Non-Numerical Features"
   ]
  },
  {
   "cell_type": "markdown",
   "metadata": {},
   "source": [
    "For our task, we may only use numerical features in the training."
   ]
  },
  {
   "cell_type": "code",
   "execution_count": 75,
   "metadata": {},
   "outputs": [
    {
     "name": "stdout",
     "output_type": "stream",
     "text": [
      "root\n",
      " |-- RecordedAtTime: string (nullable = true)\n",
      " |-- DirectionRef: float (nullable = true)\n",
      " |-- PublishedLineName: string (nullable = true)\n",
      " |-- OriginName: string (nullable = true)\n",
      " |-- OriginLat: float (nullable = true)\n",
      " |-- OriginLong: float (nullable = true)\n",
      " |-- DestinationName: string (nullable = true)\n",
      " |-- DestinationLat: float (nullable = true)\n",
      " |-- DestinationLong: float (nullable = true)\n",
      " |-- VehicleRef: string (nullable = true)\n",
      " |-- VehicleLocation_Latitude: float (nullable = true)\n",
      " |-- VehicleLocation_Longitude: float (nullable = true)\n",
      " |-- NextStopPointName: string (nullable = true)\n",
      " |-- ArrivalProximityText: string (nullable = true)\n",
      " |-- DistanceFromStop: integer (nullable = true)\n",
      " |-- ExpectedArrivalTime: string (nullable = true)\n",
      " |-- ScheduledArrivalTime: string (nullable = true)\n",
      " |-- PublishedLineName_Index: double (nullable = false)\n",
      " |-- OriginName_Index: double (nullable = false)\n",
      " |-- DestinationName_Index: double (nullable = false)\n",
      " |-- VehicleRef_Index: double (nullable = false)\n",
      " |-- NextStopPointName_Index: double (nullable = false)\n",
      " |-- ArrivalProximityText_Index: double (nullable = false)\n",
      " |-- ExpectedArrivalTime_Index: double (nullable = false)\n",
      " |-- ScheduledArrivalTime_Index: double (nullable = false)\n",
      " |-- PublishedLineName_Index_OHE: vector (nullable = true)\n",
      " |-- OriginName_Index_OHE: vector (nullable = true)\n",
      " |-- DestinationName_Index_OHE: vector (nullable = true)\n",
      " |-- VehicleRef_Index_OHE: vector (nullable = true)\n",
      " |-- NextStopPointName_Index_OHE: vector (nullable = true)\n",
      " |-- ArrivalProximityText_Index_OHE: vector (nullable = true)\n",
      " |-- ExpectedArrivalTime_Index_OHE: vector (nullable = true)\n",
      " |-- ScheduledArrivalTime_Index_OHE: vector (nullable = true)\n",
      "\n"
     ]
    }
   ],
   "source": [
    "from pyspark.ml.feature import StringIndexer, OneHotEncoder\n",
    "from pyspark.ml import Pipeline\n",
    "\n",
    "# List of categorical string columns that need to be transformed\n",
    "categorical_columns = [\n",
    "    \"PublishedLineName\", \"OriginName\", \"DestinationName\", \"VehicleRef\",\n",
    "    \"NextStopPointName\", \"ArrivalProximityText\", \"ExpectedArrivalTime\",\n",
    "    \"ScheduledArrivalTime\"\n",
    "]\n",
    "\n",
    "# Create StringIndexer models to convert string columns to numeric indices\n",
    "indexers = [StringIndexer(inputCol=c, outputCol=c + \"_Index\") for c in categorical_columns]\n",
    "\n",
    "# Create OneHotEncoder models to convert indexed columns to one-hot encoded vectors\n",
    "encoders = [OneHotEncoder(inputCol=indexer.getOutputCol(), outputCol=indexer.getOutputCol() + \"_OHE\") for indexer in indexers]\n",
    "\n",
    "# Build a Pipeline containing the indexers and encoders\n",
    "pipeline = Pipeline(stages=indexers + encoders)\n",
    "\n",
    "# Fit the pipeline to the DataFrame and transform the data\n",
    "con_df_transformed = pipeline.fit(con_df).transform(con_df)\n",
    "\n",
    "# Show the schema of the transformed DataFrame to verify changes\n",
    "con_df_transformed.printSchema()\n"
   ]
  },
  {
   "cell_type": "markdown",
   "metadata": {},
   "source": [
    "### List Out Raw and Derived Features"
   ]
  },
  {
   "cell_type": "markdown",
   "metadata": {},
   "source": [
    "#### Raw Features:\n",
    "These are directly from the dataset without any modifications.\n",
    "- **RecordedAtTime**: The timestamp when the data was recorded.\n",
    "- **DirectionRef**: Numeric identifier indicating the direction of travel.\n",
    "- **PublishedLineName**: The name of the bus or transit line.\n",
    "- **OriginName**: Starting point name of the route.\n",
    "- **OriginLat**: Latitude of the starting point.\n",
    "- **OriginLong**: Longitude of the starting point.\n",
    "- **DestinationName**: Ending point name of the route.\n",
    "- **DestinationLat**: Latitude of the destination.\n",
    "- **DestinationLong**: Longitude of the destination.\n",
    "- **VehicleRef**: Identifier for the vehicle.\n",
    "- **VehicleLocation.Latitude**: Current latitude of the vehicle.\n",
    "- **VehicleLocation.Longitude**: Current longitude of the vehicle.\n",
    "- **NextStopPointName**: Name of the next stop.\n",
    "- **ArrivalProximityText**: Text describing the vehicle's proximity to the next stop.\n",
    "- **DistanceFromStop**: Distance in meters from the next stop.\n",
    "- **ExpectedArrivalTime**: Expected time of arrival at the next stop.\n",
    "- **ScheduledArrivalTime**: Scheduled time of arrival at the next stop.\n",
    "\n",
    "#### Derived Features:\n",
    "Derived features are engineered from raw data and can provide additional insights or predictive power.\n",
    "\n",
    "- The string columns `PublishedLineName`, `OriginName`, `DestinationName`, `VehicleRef`, `NextStopPointName`, and `ArrivalProximityText` were removed from the dataset. These features were assessed to be irrelevant to the prediction of bus lateness, primarily because they represent nominal data with high cardinality and were redundant with more precise numerical data available (e.g., DistanceFromStop). Initial tests showed no significant degradation in model performance upon their removal, confirming that these features did not hold predictive value.\n",
    "\n",
    "- The `ExpectedArrivalTime` field has been removed from the dataset as it does not provide direct, actionable information for predicting bus lateness. This decision was based on the presence of other more directly relevant features such as `ScheduledArrivalTime` and `DistanceFromStop`, which more effectively contribute to understanding and predicting delays. Additionally, the format of ExpectedArrivalTime as a string requires conversion and processing that does not justify its inclusion given its redundant nature in the context of our predictive modeling goals.\n",
    "\n",
    "- Convert `DistanceFromStop` from Integer to Float. This transformation is aimed at converting the DistanceFromStop column from an integer data type to a float. This might be necessary for several reasons, such as to allow for null values, to maintain consistency with other numerical fields that are floats, or to prepare for operations that require floating point precision. In PySpark, this is done using the `cast()` function, which is a method to change the data type of a DataFrame column.\n",
    "\n",
    "- We need to adjust the `ScheduledArrivalTime` to a proper timestamp format. It handles time adjustments for hours beyond midnight and corrects dates accordingly, ensuring accurate scheduling data for model training and analysis."
   ]
  },
  {
   "cell_type": "code",
   "execution_count": 76,
   "metadata": {
    "tags": []
   },
   "outputs": [
    {
     "name": "stdout",
     "output_type": "stream",
     "text": [
      "root\n",
      " |-- RecordedAtTime: string (nullable = true)\n",
      " |-- DirectionRef: float (nullable = true)\n",
      " |-- OriginLat: float (nullable = true)\n",
      " |-- OriginLong: float (nullable = true)\n",
      " |-- DestinationLat: float (nullable = true)\n",
      " |-- DestinationLong: float (nullable = true)\n",
      " |-- VehicleLocation_Latitude: float (nullable = true)\n",
      " |-- VehicleLocation_Longitude: float (nullable = true)\n",
      " |-- DistanceFromStop: integer (nullable = true)\n",
      " |-- ScheduledArrivalTime: string (nullable = true)\n",
      "\n"
     ]
    }
   ],
   "source": [
    "df= con_df\n",
    "\n",
    "# Remove rows with null values in the specified columns to ensure there's no null value for model training\n",
    "df = df.na.drop(subset=[\n",
    " 'RecordedAtTime',\n",
    " 'DirectionRef',\n",
    " 'PublishedLineName',\n",
    " 'OriginName',\n",
    " 'OriginLat',\n",
    " 'OriginLong',\n",
    " 'DestinationName',\n",
    " 'DestinationLat',\n",
    " 'DestinationLong',\n",
    " 'VehicleRef',\n",
    " 'VehicleLocation_Latitude',\n",
    " 'VehicleLocation_Longitude',\n",
    " 'NextStopPointName',\n",
    " 'ArrivalProximityText',\n",
    " 'DistanceFromStop',\n",
    " 'ExpectedArrivalTime',\n",
    " 'ScheduledArrivalTime'\n",
    "])\n",
    "\n",
    "# List of columns you want to drop\n",
    "columns_to_drop = ['PublishedLineName', 'OriginName', 'DestinationName', 'VehicleRef', 'NextStopPointName', 'ArrivalProximityText', 'ExpectedArrivalTime']\n",
    "\n",
    "# Drop the columns from the copied DataFrame\n",
    "df = df.drop(*columns_to_drop)\n",
    "\n",
    "# Show the updated DataFrame structure\n",
    "df.printSchema()"
   ]
  },
  {
   "cell_type": "code",
   "execution_count": 77,
   "metadata": {
    "tags": []
   },
   "outputs": [],
   "source": [
    "from pyspark.sql.functions import col, to_timestamp, concat, expr, when, lit, date_format\n",
    "from pyspark.sql.types import IntegerType, StringType\n",
    "from pyspark.sql.functions import udf\n",
    "from pyspark.sql.functions import unix_timestamp, datediff\n",
    "from pyspark.sql.functions import to_date\n",
    "\n",
    "# Task 1: Convert DistanceFromStop from integer to float\n",
    "df = df.withColumn(\"DistanceFromStop\", col(\"DistanceFromStop\").cast(\"float\"))\n",
    "\n",
    "# Convert and adjust ScheduledArrivalTime\n",
    "# UDF to adjust hours and format time correctly\n",
    "\n",
    "df = df.withColumn(\"RecordedAtTime\", to_timestamp(\"RecordedAtTime\"))\n",
    "df = df.withColumn(\"RecordDate\", to_date(\"RecordedAtTime\"))\n",
    "\n",
    "def adjust_hours(time_str):\n",
    "    if not isinstance(time_str, str):\n",
    "        return None  # or some default value, depending on your requirement\n",
    "    if not time_str[:2].isdigit():\n",
    "        return time_str  # Return the original string if it's not a valid time format\n",
    "    hours = int(time_str[:2])\n",
    "    rest = time_str[2:]\n",
    "    if hours >= 24:\n",
    "        hours -= 24\n",
    "    return f\"{hours:02d}{rest}\"\n",
    "\n",
    "adjust_hours_udf = udf(adjust_hours, StringType())\n",
    "\n",
    "# Apply UDF in a DataFrame operation\n",
    "df = df.withColumn(\"AdjustedScheduledTime\", adjust_hours_udf(df[\"ScheduledArrivalTime\"]))\n",
    "df = df.withColumn(\"Scheduled\", to_timestamp(concat(col(\"RecordDate\"), lit(\" \"), col(\"AdjustedScheduledTime\")), \"yyyy-MM-dd HH:mm:ss\"))\n",
    "\n",
    "# Add one day if the scheduled time is after midnight\n",
    "df = df.withColumn(\"Scheduled\",\n",
    "                   when((unix_timestamp(\"Scheduled\") - unix_timestamp(\"RecordedAtTime\")) / 60 >= 1000,\n",
    "                        expr(\"date_add(Scheduled, -1)\"))\n",
    "                   .otherwise(col(\"Scheduled\")))\n",
    "df = df.withColumn(\"Scheduled\",\n",
    "                   when((unix_timestamp(\"Scheduled\") - unix_timestamp(\"RecordedAtTime\")) / 60 <= -1000,\n",
    "                        expr(\"date_add(Scheduled, 1)\"))\n",
    "                   .otherwise(col(\"Scheduled\")))"
   ]
  },
  {
   "cell_type": "code",
   "execution_count": 78,
   "metadata": {
    "tags": []
   },
   "outputs": [],
   "source": [
    "# Add late indicator\n",
    "df = df.withColumn(\"Late\", (col(\"Scheduled\") < col(\"RecordedAtTime\")).cast(\"integer\"))"
   ]
  },
  {
   "cell_type": "code",
   "execution_count": 80,
   "metadata": {},
   "outputs": [],
   "source": [
    "df1 = df"
   ]
  },
  {
   "cell_type": "code",
   "execution_count": 81,
   "metadata": {
    "tags": []
   },
   "outputs": [
    {
     "name": "stdout",
     "output_type": "stream",
     "text": [
      "root\n",
      " |-- RecordedAtTime: timestamp (nullable = true)\n",
      " |-- DirectionRef: float (nullable = true)\n",
      " |-- OriginLat: float (nullable = true)\n",
      " |-- OriginLong: float (nullable = true)\n",
      " |-- DestinationLat: float (nullable = true)\n",
      " |-- DestinationLong: float (nullable = true)\n",
      " |-- VehicleLocation_Latitude: float (nullable = true)\n",
      " |-- VehicleLocation_Longitude: float (nullable = true)\n",
      " |-- DistanceFromStop: float (nullable = true)\n",
      " |-- Scheduled: timestamp (nullable = true)\n",
      " |-- Late: integer (nullable = true)\n",
      "\n"
     ]
    }
   ],
   "source": [
    "# Drop the columns we do not need\n",
    "# List of columns you want to drop\n",
    "columns_to_drop = ['ScheduledArrivalTime', 'AdjustedScheduledTime', 'RecordDate']\n",
    "\n",
    "# Drop the columns from the copied DataFrame\n",
    "df1 = df1.drop(*columns_to_drop)\n",
    "df1.printSchema()"
   ]
  },
  {
   "cell_type": "markdown",
   "metadata": {},
   "source": [
    "### Dimensionality Reduction Consideration\n",
    "\n",
    "#### Dimensionality Reduction Considerations:\n",
    "Given the above features, especially with multiple derived categorical variables (like one-hot encoded vectors), dimensionality reduction techniques might be useful:\n",
    "- **Principal Component Analysis (PCA)** could be applied to reduce the dimensions of numerical features while retaining variance.\n",
    "- **Feature Selection Techniques** such as LASSO (L1 regularization) can help in selecting features that contribute most to the predictive model, thereby improving model performance and reducing complexity.\n",
    "\n",
    "#### Feature Transformations:\n",
    "- **StringIndexer** for converting string categorical columns to numeric indices.\n",
    "- **OneHotEncoder** for categorical variables to transform them into binary vectors, which is particularly useful for models that require numerical input.\n",
    "- **VectorAssembler** could be used to combine all feature columns into a single vector column, a common requirement for Spark MLlib algorithms."
   ]
  },
  {
   "cell_type": "code",
   "execution_count": 82,
   "metadata": {
    "tags": []
   },
   "outputs": [
    {
     "data": {
      "text/plain": [
       "['RecordedAtTime',\n",
       " 'DirectionRef',\n",
       " 'OriginLat',\n",
       " 'OriginLong',\n",
       " 'DestinationLat',\n",
       " 'DestinationLong',\n",
       " 'VehicleLocation_Latitude',\n",
       " 'VehicleLocation_Longitude',\n",
       " 'DistanceFromStop',\n",
       " 'Scheduled',\n",
       " 'Late']"
      ]
     },
     "execution_count": 82,
     "metadata": {},
     "output_type": "execute_result"
    }
   ],
   "source": [
    "# Remove rows with null values in the specified columns to ensure there's no null value for model training\n",
    "df1 = df1.dropna()\n",
    "\n",
    "df1.columns"
   ]
  },
  {
   "cell_type": "code",
   "execution_count": 83,
   "metadata": {
    "tags": []
   },
   "outputs": [],
   "source": [
    "from pyspark.ml.feature import VectorAssembler, PCA\n",
    "from pyspark.ml.linalg import Vectors\n",
    "\n",
    "assembler = VectorAssembler(\n",
    "    inputCols=[\n",
    " 'DirectionRef',\n",
    " 'OriginLat',\n",
    " 'OriginLong',\n",
    " 'DestinationLat',\n",
    " 'DestinationLong',\n",
    " 'VehicleLocation_Latitude',\n",
    " 'VehicleLocation_Longitude',\n",
    " 'DistanceFromStop'],\n",
    "    outputCol=\"features\"\n",
    ")\n",
    "\n",
    "features_df = assembler.transform(df1)\n",
    "\n",
    "pca = PCA(k=8, inputCol=\"features\", outputCol=\"pcaFeatures\")\n",
    "model = pca.fit(features_df)\n",
    "result = model.transform(features_df)"
   ]
  },
  {
   "cell_type": "code",
   "execution_count": 84,
   "metadata": {
    "tags": []
   },
   "outputs": [
    {
     "name": "stdout",
     "output_type": "stream",
     "text": [
      "+-----------------------------------------------------------------------------------------------------------------------------------------------------------------+\n",
      "|pcaFeatures                                                                                                                                                      |\n",
      "+-----------------------------------------------------------------------------------------------------------------------------------------------------------------+\n",
      "|[21.001843568886645,-0.18831199593035006,37.9044103639619,-141.21846463514095,1.677640042429027,-1.937044147817557,-1.2711349337570892,-1.2665263089788825]      |\n",
      "|[186.00188596724385,0.8283080659240647,38.41711134423043,-141.2172458073909,1.567795133874803,-1.830819258778158,-1.1781943433194009,-1.2969846478811673]        |\n",
      "|[0.001842173555059329,-0.1880217673510296,37.85776584783744,-141.1534125365814,1.6808200833710463,-1.9295360843222265,-1.3121122161201129,-1.3116886114478135]   |\n",
      "|[77.00184094053608,-0.19170819469284395,37.86195423987635,-141.0047614762683,1.6362129331794173,-1.9576957573856848,-1.2869476358870167,-1.2927283600189234]     |\n",
      "|[608.001883314799,0.8052254551958925,38.360223939105296,-141.16126677313247,1.6359478181448843,-1.9082169356341716,-1.2427374533294528,-1.3047290808245822]      |\n",
      "|[313.0018448154437,-0.1933048038483109,37.94115404544496,-141.247273938535,1.6269565588468786,-1.9196249067010769,-1.2795931629234671,-1.2909750339000754]       |\n",
      "|[199.00187453185376,0.8059381252161829,37.91137214634053,-141.22866076111706,1.6168154656345397,-2.022387581161027,-1.280223701464614,-1.2787259920534986]       |\n",
      "|[0.0018455522272853493,-0.19149326622928659,38.0265509963457,-141.23412625381377,1.6155443665543685,-2.018621061155615,-1.3100319636677753,-1.2747831776515568]  |\n",
      "|[54.00184674232489,-0.1899844832925462,38.155679016571675,-141.0465745640572,1.6457932965043691,-1.9665723570606386,-1.280477326525912,-1.2819805664856632]      |\n",
      "|[198.00184803140996,-0.19362011523482783,38.15788747982485,-141.20168045617393,1.6185819554361247,-1.9813723490441788,-1.2775951333643194,-1.2882282554223088]   |\n",
      "|[59.00187178546886,0.8125144705780598,37.872018926321545,-140.92784267075993,1.629826979255488,-1.9645002306987773,-1.3062866716029349,-1.2794657246437273]      |\n",
      "|[0.0018527128024654299,-0.18531009001609436,38.391128554846304,-141.21952989415482,1.6497182319464703,-1.9581074789130257,-1.289434993331568,-1.2985218321120726]|\n",
      "|[16.00187598368713,0.8172235407641552,38.049045354558196,-141.00779863913147,1.5675034724198658,-1.9758024746053453,-1.2394389603614033,-1.2668725395967613]     |\n",
      "|[69.00184689552025,-0.18733175881818892,38.068680841338896,-141.22717412672648,1.638589879782303,-1.9389945733712544,-1.2824640684987862,-1.2801398074043036]    |\n",
      "|[328.0018725158765,0.8006672661120984,37.910039729532144,-140.99787541859305,1.7067830933897519,-1.9811002624997556,-1.2803311734086207,-1.2801585718910944]     |\n",
      "|[0.0018780613911896157,0.8151860214126022,38.137631763480144,-141.10383170596197,1.6681477349849527,-1.969143932637657,-1.2904573969055662,-1.2997155547143038]  |\n",
      "|[7.001847070549107,-0.19115694242864337,38.20584597581081,-141.00167678516922,1.6540253004142929,-1.9915157726470305,-1.3252191737556345,-1.2873292764779953]    |\n",
      "|[56.001877574046134,0.816805720750761,38.03229695803192,-141.24425228512428,1.6478099997918145,-1.942601332281724,-1.2647179361521164,-1.283874909179278]        |\n",
      "|[3.0018727867900052,0.8107736805618507,37.922956998808125,-140.99188353360333,1.7053130833100336,-1.9797020027170524,-1.273650002877938,-1.2933713126845023]     |\n",
      "|[67.00184232476116,-0.1926328151789792,37.87284214313094,-141.17103856665358,1.6573592731303026,-1.9723925299891059,-1.3216488327770266,-1.2906743615798701]     |\n",
      "+-----------------------------------------------------------------------------------------------------------------------------------------------------------------+\n",
      "only showing top 20 rows\n",
      "\n"
     ]
    }
   ],
   "source": [
    "result.select(\"pcaFeatures\").show(truncate=False)"
   ]
  },
  {
   "cell_type": "markdown",
   "metadata": {},
   "source": [
    "The PCA output shown consists of eight-dimensional vectors for each data point, effectively transforming and reducing the dimensionality of the original data into principal components. These vectors capture the essential variance and patterns from the dataset, with the first component (values ranging broadly) likely capturing the most significant pattern. Subsequent components (values closer to zero or slightly negative/positive) represent more nuanced patterns orthogonal to the first, highlighting less dominant but potentially informative trends within the data. This transformation aids in emphasizing the most impactful features while reducing noise and redundancy."
   ]
  },
  {
   "cell_type": "code",
   "execution_count": 85,
   "metadata": {
    "tags": []
   },
   "outputs": [
    {
     "name": "stdout",
     "output_type": "stream",
     "text": [
      "+-------------------+------------+---------+----------+--------------+---------------+------------------------+-------------------------+----------------+-------------------+----+--------------------+\n",
      "|     RecordedAtTime|DirectionRef|OriginLat|OriginLong|DestinationLat|DestinationLong|VehicleLocation_Latitude|VehicleLocation_Longitude|DistanceFromStop|          Scheduled|Late|            features|\n",
      "+-------------------+------------+---------+----------+--------------+---------------+------------------------+-------------------------+----------------+-------------------+----+--------------------+\n",
      "|2017-06-29 08:11:04|         1.0|40.818676|-73.851555|     40.849033|      -73.93731|                40.84691|                -73.92052|            21.0|2017-06-29 08:11:00|   1|[1.0,40.818675994...|\n",
      "|2017-06-29 08:11:07|         0.0| 40.54346| -74.19723|      40.75992|      -73.96697|                40.56903|                -74.16955|           186.0|2017-06-29 08:12:38|   0|[0.0,40.543460845...|\n",
      "|2017-06-29 08:10:56|         1.0|40.812946| -73.82704|       40.8524|     -73.920105|               40.829937|                -73.82553|             0.0|2017-06-29 08:09:09|   1|[1.0,40.812946319...|\n",
      "|2017-06-29 08:11:02|         1.0| 40.78229| -73.77706|     40.760937|     -73.827286|               40.766495|               -73.789894|            77.0|2017-06-29 08:13:15|   0|[1.0,40.782291412...|\n",
      "|2017-06-29 08:10:59|         0.0| 40.56405|-74.110535|     40.714607|      -74.01591|               40.591076|                -74.08799|           608.0|2017-06-29 08:10:17|   1|[0.0,40.564048767...|\n",
      "+-------------------+------------+---------+----------+--------------+---------------+------------------------+-------------------------+----------------+-------------------+----+--------------------+\n",
      "only showing top 5 rows\n",
      "\n"
     ]
    }
   ],
   "source": [
    "from pyspark.ml.linalg import Vectors\n",
    "from pyspark.ml.feature import VectorAssembler\n",
    "\n",
    "assembler = VectorAssembler(\n",
    "  inputCols=[\n",
    " 'DirectionRef',\n",
    " 'OriginLat',\n",
    " 'OriginLong',\n",
    " 'DestinationLat',\n",
    " 'DestinationLong',\n",
    " 'VehicleLocation_Latitude',\n",
    " 'VehicleLocation_Longitude',\n",
    " 'DistanceFromStop',\n",
    " 'Late'], outputCol=\"features\")\n",
    "\n",
    "output = assembler.transform(df1)\n",
    "output.show(5)"
   ]
  },
  {
   "cell_type": "markdown",
   "metadata": {},
   "source": [
    "### Specify Feature Transformations"
   ]
  },
  {
   "cell_type": "code",
   "execution_count": 86,
   "metadata": {
    "tags": []
   },
   "outputs": [],
   "source": [
    "from pyspark.ml.feature import StringIndexer\n",
    "\n",
    "# deal with the labels\n",
    "indexer = StringIndexer(inputCol=\"Late\", outputCol=\"LateIndex\")\n",
    "output_fixed = indexer.fit(output).transform(output)\n",
    "\n",
    "final_data = output_fixed.select(\"features\",'LateIndex')"
   ]
  },
  {
   "cell_type": "code",
   "execution_count": 87,
   "metadata": {
    "tags": []
   },
   "outputs": [
    {
     "name": "stdout",
     "output_type": "stream",
     "text": [
      "+--------------------+---------+\n",
      "|            features|LateIndex|\n",
      "+--------------------+---------+\n",
      "|[1.0,40.818675994...|      0.0|\n",
      "|[0.0,40.543460845...|      1.0|\n",
      "|[1.0,40.812946319...|      0.0|\n",
      "|[1.0,40.782291412...|      1.0|\n",
      "|[0.0,40.564048767...|      0.0|\n",
      "+--------------------+---------+\n",
      "only showing top 5 rows\n",
      "\n"
     ]
    }
   ],
   "source": [
    "final_data.show(5)"
   ]
  },
  {
   "cell_type": "markdown",
   "metadata": {},
   "source": [
    "### Create baseline pipelines and do experiments on data"
   ]
  },
  {
   "cell_type": "code",
   "execution_count": 88,
   "metadata": {
    "tags": []
   },
   "outputs": [],
   "source": [
    "from pyspark.ml.classification import DecisionTreeClassifier,GBTClassifier,RandomForestClassifier\n",
    "from pyspark.ml import Pipeline"
   ]
  },
  {
   "cell_type": "code",
   "execution_count": 89,
   "metadata": {
    "tags": []
   },
   "outputs": [],
   "source": [
    "train_data, test_data = final_data.randomSplit([0.7,0.3])"
   ]
  },
  {
   "cell_type": "code",
   "execution_count": 90,
   "metadata": {
    "tags": []
   },
   "outputs": [],
   "source": [
    "# Use mostly defaults to make this comparison \"fair\"\n",
    "dtc = DecisionTreeClassifier(labelCol='LateIndex',featuresCol='features')\n",
    "dtc_model = dtc.fit(train_data)"
   ]
  },
  {
   "cell_type": "markdown",
   "metadata": {},
   "source": [
    "### Make Predictions on Both Training and Test Sets"
   ]
  },
  {
   "cell_type": "code",
   "execution_count": 91,
   "metadata": {
    "tags": []
   },
   "outputs": [],
   "source": [
    "# Predictions on the test data\n",
    "dtc_predictions_test = dtc_model.transform(test_data)\n",
    "\n",
    "# Predictions on the training data\n",
    "dtc_predictions_train = dtc_model.transform(train_data)"
   ]
  },
  {
   "cell_type": "code",
   "execution_count": 92,
   "metadata": {
    "tags": []
   },
   "outputs": [
    {
     "name": "stdout",
     "output_type": "stream",
     "text": [
      "+--------------------+---------+-------------+-----------+----------+\n",
      "|            features|LateIndex|rawPrediction|probability|prediction|\n",
      "+--------------------+---------+-------------+-----------+----------+\n",
      "|[0.0,40.560760498...|      1.0| [0.0,4922.0]|  [0.0,1.0]|       1.0|\n",
      "|[0.0,40.611007690...|      0.0| [6977.0,0.0]|  [1.0,0.0]|       0.0|\n",
      "|[0.0,40.631832122...|      1.0| [0.0,4922.0]|  [0.0,1.0]|       1.0|\n",
      "|[0.0,40.639846801...|      0.0| [6977.0,0.0]|  [1.0,0.0]|       0.0|\n",
      "|[0.0,40.660842895...|      1.0| [0.0,4922.0]|  [0.0,1.0]|       1.0|\n",
      "+--------------------+---------+-------------+-----------+----------+\n",
      "only showing top 5 rows\n",
      "\n"
     ]
    }
   ],
   "source": [
    "dtc_predictions_test.show(5)"
   ]
  },
  {
   "cell_type": "code",
   "execution_count": 93,
   "metadata": {
    "tags": []
   },
   "outputs": [
    {
     "name": "stdout",
     "output_type": "stream",
     "text": [
      "+--------------------+---------+-------------+-----------+----------+\n",
      "|            features|LateIndex|rawPrediction|probability|prediction|\n",
      "+--------------------+---------+-------------+-----------+----------+\n",
      "|[0.0,40.543460845...|      1.0| [0.0,4922.0]|  [0.0,1.0]|       1.0|\n",
      "|[0.0,40.564048767...|      0.0| [6977.0,0.0]|  [1.0,0.0]|       0.0|\n",
      "|[0.0,40.575645446...|      0.0| [6977.0,0.0]|  [1.0,0.0]|       0.0|\n",
      "|[0.0,40.577037811...|      1.0| [0.0,4922.0]|  [0.0,1.0]|       1.0|\n",
      "|[0.0,40.577079772...|      1.0| [0.0,4922.0]|  [0.0,1.0]|       1.0|\n",
      "+--------------------+---------+-------------+-----------+----------+\n",
      "only showing top 5 rows\n",
      "\n"
     ]
    }
   ],
   "source": [
    "dtc_predictions_train.show(5)"
   ]
  },
  {
   "cell_type": "markdown",
   "metadata": {},
   "source": [
    "### Evaluate the Model"
   ]
  },
  {
   "cell_type": "code",
   "execution_count": 94,
   "metadata": {
    "tags": []
   },
   "outputs": [
    {
     "name": "stdout",
     "output_type": "stream",
     "text": [
      "Model Evaluation Results\n",
      "--------------------------------------------------------------------------------\n",
      "A single decision tree accuracy on training data: 100.00%\n",
      "A single decision tree accuracy on test data: 100.00%\n",
      "--------------------------------------------------------------------------------\n"
     ]
    }
   ],
   "source": [
    "from pyspark.ml.evaluation import MulticlassClassificationEvaluator\n",
    "\n",
    "# Initialize evaluator with accuracy metric\n",
    "acc_evaluator = MulticlassClassificationEvaluator(labelCol=\"LateIndex\", predictionCol=\"prediction\", metricName=\"accuracy\")\n",
    "\n",
    "# Evaluate accuracy on test data\n",
    "dtc_acc_test = acc_evaluator.evaluate(dtc_predictions_test)\n",
    "\n",
    "# Evaluate accuracy on training data\n",
    "dtc_acc_train = acc_evaluator.evaluate(dtc_predictions_train)\n",
    "\n",
    "# Print the results\n",
    "print(\"Model Evaluation Results\")\n",
    "print('-'*80)\n",
    "print(f'A single decision tree accuracy on training data: {dtc_acc_train*100:.2f}%')\n",
    "print(f'A single decision tree accuracy on test data: {dtc_acc_test*100:.2f}%')\n",
    "print('-'*80)\n"
   ]
  },
  {
   "cell_type": "markdown",
   "metadata": {},
   "source": [
    "The reported results indicate that the single decision tree model achieved a perfect accuracy of 100.00% on both the training and test datasets. While this suggests exceptional model performance, such results warrant careful scrutiny.\n",
    "\n",
    "Achieving 100% accuracy typically raises concerns about overfitting, especially when observed on an independent test set. Overfitting occurs when a model learns not only the underlying patterns in the training data but also the noise specific to that dataset, which can detrimentally affect its generalizability to new, unseen data. However, achieving perfect accuracy on both training and test datasets could also imply that the dataset might not be sufficiently challenging, or it lacks variability, making it too easy for a relatively simple model like a decision tree to predict outcomes accurately.\n",
    "\n",
    "Additionally, these results might suggest that the features used for training have a very high predictive power, or the task at hand is naturally amenable to being modeled accurately with decision trees. It could also be that the data preprocessing and feature engineering stages were highly effective, leading to clear, discernible patterns that the decision tree could easily capture.\n",
    "\n",
    "Nonetheless, in practical scenarios, it's uncommon for models to achieve 100% accuracy on real-world datasets due to the usual presence of noise and exceptions in the data. It is advisable to further investigate the model's performance, perhaps by examining a more complex validation process, applying the model to a completely independent dataset, or testing it under different conditions to ensure that the model truly generalizes well and is not merely memorizing the data."
   ]
  },
  {
   "cell_type": "markdown",
   "metadata": {},
   "source": [
    "## Milestone 3"
   ]
  },
  {
   "cell_type": "markdown",
   "metadata": {},
   "source": [
    "### Feature Engineering"
   ]
  },
  {
   "cell_type": "markdown",
   "metadata": {},
   "source": [
    "### 1) Add new feature: Adherence\n",
    "Analyzing discrepancies between scheduled and expected arrival times might directly indicate potential delays."
   ]
  },
  {
   "cell_type": "code",
   "execution_count": 95,
   "metadata": {},
   "outputs": [],
   "source": [
    "df2 = df"
   ]
  },
  {
   "cell_type": "code",
   "execution_count": 96,
   "metadata": {},
   "outputs": [
    {
     "name": "stdout",
     "output_type": "stream",
     "text": [
      "+-------------------+------------+---------+----------+--------------+---------------+------------------------+-------------------------+----------------+--------------------+----------+---------------------+-------------------+----+--------------------+\n",
      "|     RecordedAtTime|DirectionRef|OriginLat|OriginLong|DestinationLat|DestinationLong|VehicleLocation_Latitude|VehicleLocation_Longitude|DistanceFromStop|ScheduledArrivalTime|RecordDate|AdjustedScheduledTime|          Scheduled|Late|           Adherence|\n",
      "+-------------------+------------+---------+----------+--------------+---------------+------------------------+-------------------------+----------------+--------------------+----------+---------------------+-------------------+----+--------------------+\n",
      "|2017-06-29 08:11:04|         1.0|40.818676|-73.851555|     40.849033|      -73.93731|                40.84691|                -73.92052|            21.0|            08:11:00|2017-06-29|             08:11:00|2017-06-29 08:11:00|   1|-0.06666666666666667|\n",
      "|2017-06-29 08:11:07|         0.0| 40.54346| -74.19723|      40.75992|      -73.96697|                40.56903|                -74.16955|           186.0|            08:12:38|2017-06-29|             08:12:38|2017-06-29 08:12:38|   0|  1.5166666666666666|\n",
      "|2017-06-29 08:10:56|         1.0|40.812946| -73.82704|       40.8524|     -73.920105|               40.829937|                -73.82553|             0.0|            08:09:09|2017-06-29|             08:09:09|2017-06-29 08:09:09|   1| -1.7833333333333334|\n",
      "|2017-06-29 08:11:02|         1.0| 40.78229| -73.77706|     40.760937|     -73.827286|               40.766495|               -73.789894|            77.0|            08:13:15|2017-06-29|             08:13:15|2017-06-29 08:13:15|   0|   2.216666666666667|\n",
      "|2017-06-29 08:10:59|         0.0| 40.56405|-74.110535|     40.714607|      -74.01591|               40.591076|                -74.08799|           608.0|            08:10:17|2017-06-29|             08:10:17|2017-06-29 08:10:17|   1|                -0.7|\n",
      "|2017-06-29 08:10:38|         1.0|40.820633|  -73.9295|     40.849113|      -73.93775|               40.829803|               -73.930664|           313.0|            08:09:53|2017-06-29|             08:09:53|2017-06-29 08:09:53|   1|               -0.75|\n",
      "|2017-06-29 08:11:03|         0.0|40.848953|-73.936874|     40.825405|      -73.89132|               40.839634|                -73.92135|           199.0|            08:11:53|2017-06-29|             08:11:53|2017-06-29 08:11:53|   0|  0.8333333333333334|\n",
      "|2017-06-29 08:10:44|         1.0|40.840645|-73.938545|      40.73028|      -73.99053|                40.80915|                 -73.9483|             0.0|            08:03:23|2017-06-29|             08:03:23|2017-06-29 08:03:23|   1|               -7.35|\n",
      "|2017-06-29 08:11:00|         1.0|40.676746| -73.89994|      40.65485|     -73.961754|               40.662407|               -73.937126|            54.0|            08:06:52|2017-06-29|             08:06:52|2017-06-29 08:06:52|   1|  -4.133333333333334|\n",
      "|2017-06-29 08:10:47|         1.0| 40.75589| -73.98278|      40.70237|      -74.01304|                40.71733|                -74.00363|           198.0|            08:01:47|2017-06-29|             08:01:47|2017-06-29 08:01:47|   1|                -9.0|\n",
      "|2017-06-29 08:11:01|         0.0| 40.70049|-73.807884|     40.753666|      -73.75709|                40.74935|                -73.75686|            59.0|            08:13:00|2017-06-29|             08:13:00|2017-06-29 08:13:00|   0|  1.9833333333333334|\n",
      "|2017-06-29 08:10:40|         1.0|40.643192|  -74.0734|     40.639946|     -74.130585|               40.626263|                -74.09179|             0.0|            08:09:02|2017-06-29|             08:09:02|2017-06-29 08:09:02|   1| -1.6333333333333333|\n",
      "|2017-06-29 08:11:04|         0.0| 40.69248|  -73.9279|      40.70444|      -73.79261|               40.682587|                 -73.9099|            16.0|            08:08:40|2017-06-29|             08:08:40|2017-06-29 08:08:40|   1|                -2.4|\n",
      "|2017-06-29 08:10:56|         1.0| 40.76695| -73.95412|      40.77649|      -73.98872|               40.775986|                -73.97613|            69.0|            08:09:00|2017-06-29|             08:09:00|2017-06-29 08:09:00|   1| -1.9333333333333333|\n",
      "|2017-06-29 08:20:18|         0.0|40.704906|-73.793304|      40.78415|     -73.845505|               40.748466|               -73.825966|           328.0|            08:24:07|2017-06-29|             08:24:07|2017-06-29 08:24:07|   0|   3.816666666666667|\n",
      "|2017-06-29 08:20:04|         0.0|40.660843|-73.961464|     40.737198|      -73.95576|               40.687553|                -73.94185|             0.0|            08:21:21|2017-06-29|             08:21:21|2017-06-29 08:21:21|   0|  1.2833333333333334|\n",
      "|2017-06-29 08:20:06|         1.0|40.645504| -73.90254|      40.59295|     -73.993385|                40.63912|                 -73.9077|             7.0|            08:19:58|2017-06-29|             08:19:58|2017-06-29 08:19:58|   1|-0.13333333333333333|\n",
      "|2017-06-29 08:20:00|         0.0|40.748043| -73.98896|     40.848263|     -73.937454|               40.788677|                -73.98105|            56.0|            08:16:29|2017-06-29|             08:16:29|2017-06-29 08:16:29|   1| -3.5166666666666666|\n",
      "|2017-06-29 08:20:07|         0.0|40.704906|-73.793304|      40.78415|     -73.845505|                40.72989|                -73.82332|             3.0|            08:20:03|2017-06-29|             08:20:03|2017-06-29 08:20:03|   1|-0.06666666666666667|\n",
      "|2017-06-29 08:20:01|         1.0| 40.83974|  -73.8432|     40.809654|      -73.92836|                40.84638|                -73.84435|            67.0|            08:14:41|2017-06-29|             08:14:41|2017-06-29 08:14:41|   1|  -5.333333333333333|\n",
      "+-------------------+------------+---------+----------+--------------+---------------+------------------------+-------------------------+----------------+--------------------+----------+---------------------+-------------------+----+--------------------+\n",
      "only showing top 20 rows\n",
      "\n"
     ]
    }
   ],
   "source": [
    "df2 = df2.withColumn(\"Adherence\", (unix_timestamp(\"Scheduled\") - unix_timestamp(\"RecordedAtTime\")) / 60)\n",
    "\n",
    "df2 = df2.dropna()\n",
    "df2.show()"
   ]
  },
  {
   "cell_type": "code",
   "execution_count": 97,
   "metadata": {},
   "outputs": [
    {
     "name": "stdout",
     "output_type": "stream",
     "text": [
      "+-------------------+------------+---------+----------+--------------+---------------+------------------------+-------------------------+----------------+--------------------+----------+---------------------+-------------------+----+--------------------+--------------------+\n",
      "|     RecordedAtTime|DirectionRef|OriginLat|OriginLong|DestinationLat|DestinationLong|VehicleLocation_Latitude|VehicleLocation_Longitude|DistanceFromStop|ScheduledArrivalTime|RecordDate|AdjustedScheduledTime|          Scheduled|Late|           Adherence|            features|\n",
      "+-------------------+------------+---------+----------+--------------+---------------+------------------------+-------------------------+----------------+--------------------+----------+---------------------+-------------------+----+--------------------+--------------------+\n",
      "|2017-06-29 08:11:04|         1.0|40.818676|-73.851555|     40.849033|      -73.93731|                40.84691|                -73.92052|            21.0|            08:11:00|2017-06-29|             08:11:00|2017-06-29 08:11:00|   1|-0.06666666666666667|[1.0,40.818675994...|\n",
      "|2017-06-29 08:11:07|         0.0| 40.54346| -74.19723|      40.75992|      -73.96697|                40.56903|                -74.16955|           186.0|            08:12:38|2017-06-29|             08:12:38|2017-06-29 08:12:38|   0|  1.5166666666666666|[0.0,40.543460845...|\n",
      "|2017-06-29 08:10:56|         1.0|40.812946| -73.82704|       40.8524|     -73.920105|               40.829937|                -73.82553|             0.0|            08:09:09|2017-06-29|             08:09:09|2017-06-29 08:09:09|   1| -1.7833333333333334|[1.0,40.812946319...|\n",
      "|2017-06-29 08:11:02|         1.0| 40.78229| -73.77706|     40.760937|     -73.827286|               40.766495|               -73.789894|            77.0|            08:13:15|2017-06-29|             08:13:15|2017-06-29 08:13:15|   0|   2.216666666666667|[1.0,40.782291412...|\n",
      "|2017-06-29 08:10:59|         0.0| 40.56405|-74.110535|     40.714607|      -74.01591|               40.591076|                -74.08799|           608.0|            08:10:17|2017-06-29|             08:10:17|2017-06-29 08:10:17|   1|                -0.7|[0.0,40.564048767...|\n",
      "+-------------------+------------+---------+----------+--------------+---------------+------------------------+-------------------------+----------------+--------------------+----------+---------------------+-------------------+----+--------------------+--------------------+\n",
      "only showing top 5 rows\n",
      "\n"
     ]
    }
   ],
   "source": [
    "from pyspark.ml.linalg import Vectors\n",
    "from pyspark.ml.feature import VectorAssembler\n",
    "\n",
    "assembler = VectorAssembler(\n",
    "  inputCols=[\n",
    " 'DirectionRef',\n",
    " 'OriginLat',\n",
    " 'OriginLong',\n",
    " 'DestinationLat',\n",
    " 'DestinationLong',\n",
    " 'VehicleLocation_Latitude',\n",
    " 'VehicleLocation_Longitude',\n",
    " 'DistanceFromStop',\n",
    " 'Late',\n",
    " 'Adherence'], outputCol=\"features\")\n",
    "\n",
    "output = assembler.transform(df2)\n",
    "output.show(5)"
   ]
  },
  {
   "cell_type": "code",
   "execution_count": 98,
   "metadata": {},
   "outputs": [
    {
     "name": "stdout",
     "output_type": "stream",
     "text": [
      "+--------------------+---------+\n",
      "|            features|LateIndex|\n",
      "+--------------------+---------+\n",
      "|[1.0,40.818675994...|      0.0|\n",
      "|[0.0,40.543460845...|      1.0|\n",
      "|[1.0,40.812946319...|      0.0|\n",
      "|[1.0,40.782291412...|      1.0|\n",
      "|[0.0,40.564048767...|      0.0|\n",
      "+--------------------+---------+\n",
      "only showing top 5 rows\n",
      "\n"
     ]
    }
   ],
   "source": [
    "from pyspark.ml.feature import StringIndexer\n",
    "\n",
    "# deal with the labels\n",
    "indexer = StringIndexer(inputCol=\"Late\", outputCol=\"LateIndex\")\n",
    "output_fixed = indexer.fit(output).transform(output)\n",
    "\n",
    "final_data = output_fixed.select(\"features\",'LateIndex')\n",
    "\n",
    "final_data.show(5)"
   ]
  },
  {
   "cell_type": "code",
   "execution_count": 99,
   "metadata": {},
   "outputs": [],
   "source": [
    "from pyspark.ml.classification import DecisionTreeClassifier,GBTClassifier,RandomForestClassifier\n",
    "from pyspark.ml import Pipeline\n",
    "\n",
    "train_data, test_data = final_data.randomSplit([0.8,0.2])\n",
    "\n",
    "# Use mostly defaults to make this comparison \"fair\"\n",
    "dtc = DecisionTreeClassifier(labelCol='LateIndex',featuresCol='features')\n",
    "dtc_model = dtc.fit(train_data)"
   ]
  },
  {
   "cell_type": "code",
   "execution_count": 100,
   "metadata": {},
   "outputs": [],
   "source": [
    "# Predictions on the test data\n",
    "dtc_predictions_test = dtc_model.transform(test_data)\n",
    "\n",
    "# Predictions on the training data\n",
    "dtc_predictions_train = dtc_model.transform(train_data)"
   ]
  },
  {
   "cell_type": "code",
   "execution_count": 101,
   "metadata": {},
   "outputs": [
    {
     "name": "stdout",
     "output_type": "stream",
     "text": [
      "+--------------------+---------+-------------+-----------+----------+\n",
      "|            features|LateIndex|rawPrediction|probability|prediction|\n",
      "+--------------------+---------+-------------+-----------+----------+\n",
      "|[0.0,40.543460845...|      1.0| [0.0,5676.0]|  [0.0,1.0]|       1.0|\n",
      "|[0.0,40.560760498...|      1.0| [0.0,5676.0]|  [0.0,1.0]|       1.0|\n",
      "|[0.0,40.704906463...|      1.0| [0.0,5676.0]|  [0.0,1.0]|       1.0|\n",
      "|[0.0,40.767925262...|      0.0| [7931.0,0.0]|  [1.0,0.0]|       0.0|\n",
      "|[0.0,40.807868957...|      1.0| [0.0,5676.0]|  [0.0,1.0]|       1.0|\n",
      "+--------------------+---------+-------------+-----------+----------+\n",
      "only showing top 5 rows\n",
      "\n"
     ]
    }
   ],
   "source": [
    "dtc_predictions_test.show(5)"
   ]
  },
  {
   "cell_type": "code",
   "execution_count": 102,
   "metadata": {},
   "outputs": [
    {
     "name": "stdout",
     "output_type": "stream",
     "text": [
      "+--------------------+---------+-------------+-----------+----------+\n",
      "|            features|LateIndex|rawPrediction|probability|prediction|\n",
      "+--------------------+---------+-------------+-----------+----------+\n",
      "|[0.0,40.564048767...|      0.0| [7931.0,0.0]|  [1.0,0.0]|       0.0|\n",
      "|[0.0,40.575645446...|      0.0| [7931.0,0.0]|  [1.0,0.0]|       0.0|\n",
      "|[0.0,40.577037811...|      1.0| [0.0,5676.0]|  [0.0,1.0]|       1.0|\n",
      "|[0.0,40.577079772...|      1.0| [0.0,5676.0]|  [0.0,1.0]|       1.0|\n",
      "|[0.0,40.607929229...|      1.0| [0.0,5676.0]|  [0.0,1.0]|       1.0|\n",
      "+--------------------+---------+-------------+-----------+----------+\n",
      "only showing top 5 rows\n",
      "\n"
     ]
    }
   ],
   "source": [
    "dtc_predictions_train.show(5)"
   ]
  },
  {
   "cell_type": "code",
   "execution_count": 103,
   "metadata": {},
   "outputs": [
    {
     "name": "stdout",
     "output_type": "stream",
     "text": [
      "Model Evaluation Results\n",
      "--------------------------------------------------------------------------------\n",
      "A single decision tree accuracy on training data: 100.00%\n",
      "A single decision tree accuracy on test data: 100.00%\n",
      "--------------------------------------------------------------------------------\n"
     ]
    }
   ],
   "source": [
    "from pyspark.ml.evaluation import MulticlassClassificationEvaluator\n",
    "\n",
    "# Initialize evaluator with accuracy metric\n",
    "acc_evaluator = MulticlassClassificationEvaluator(labelCol=\"LateIndex\", predictionCol=\"prediction\", metricName=\"accuracy\")\n",
    "\n",
    "# Evaluate accuracy on test data\n",
    "dtc_acc_test = acc_evaluator.evaluate(dtc_predictions_test)\n",
    "\n",
    "# Evaluate accuracy on training data\n",
    "dtc_acc_train = acc_evaluator.evaluate(dtc_predictions_train)\n",
    "\n",
    "# Print the results\n",
    "print(\"Model Evaluation Results\")\n",
    "print('-'*80)\n",
    "print(f'A single decision tree accuracy on training data: {dtc_acc_train*100:.2f}%')\n",
    "print(f'A single decision tree accuracy on test data: {dtc_acc_test*100:.2f}%')\n",
    "print('-'*80)"
   ]
  },
  {
   "cell_type": "markdown",
   "metadata": {},
   "source": [
    "### 2) Update feature: Feature Interaction and Polynomial Features\n",
    "Creating interactions between features can capture non-linear relationships that are not explored by individual features alone. This can be useful in understanding how combined factors affect bus punctuality."
   ]
  },
  {
   "cell_type": "code",
   "execution_count": 104,
   "metadata": {},
   "outputs": [],
   "source": [
    "df3 = df"
   ]
  },
  {
   "cell_type": "code",
   "execution_count": 105,
   "metadata": {},
   "outputs": [
    {
     "name": "stdout",
     "output_type": "stream",
     "text": [
      "+-------------------+------------+---------+----------+--------------+---------------+------------------------+-------------------------+----------------+--------------------+----------+---------------------+-------------------+----+--------------------+--------------------------------+--------------------+\n",
      "|     RecordedAtTime|DirectionRef|OriginLat|OriginLong|DestinationLat|DestinationLong|VehicleLocation_Latitude|VehicleLocation_Longitude|DistanceFromStop|ScheduledArrivalTime|RecordDate|AdjustedScheduledTime|          Scheduled|Late|Lat_Long_Interaction|Destination_Lat_Long_Interaction|            features|\n",
      "+-------------------+------------+---------+----------+--------------+---------------+------------------------+-------------------------+----------------+--------------------+----------+---------------------+-------------------+----+--------------------+--------------------------------+--------------------+\n",
      "|2017-06-29 08:11:04|         1.0|40.818676|-73.851555|     40.849033|      -73.93731|                40.84691|                -73.92052|            21.0|            08:11:00|2017-06-29|             08:11:00|2017-06-29 08:11:00|   1|          -3014.5227|                      -3020.2676|[1.0,40.818675994...|\n",
      "|2017-06-29 08:11:07|         0.0| 40.54346| -74.19723|      40.75992|      -73.96697|                40.56903|                -74.16955|           186.0|            08:12:38|2017-06-29|             08:12:38|2017-06-29 08:12:38|   0|          -3008.2124|                      -3014.8877|[0.0,40.543460845...|\n",
      "|2017-06-29 08:10:56|         1.0|40.812946| -73.82704|       40.8524|     -73.920105|               40.829937|                -73.82553|             0.0|            08:09:09|2017-06-29|             08:09:09|2017-06-29 08:09:09|   1|           -3013.099|                      -3019.8137|[1.0,40.812946319...|\n",
      "|2017-06-29 08:11:02|         1.0| 40.78229| -73.77706|     40.760937|     -73.827286|               40.766495|               -73.789894|            77.0|            08:13:15|2017-06-29|             08:13:15|2017-06-29 08:13:15|   0|          -3008.7976|                      -3009.2693|[1.0,40.782291412...|\n",
      "|2017-06-29 08:10:59|         0.0| 40.56405|-74.110535|     40.714607|      -74.01591|               40.591076|                -74.08799|           608.0|            08:10:17|2017-06-29|             08:10:17|2017-06-29 08:10:17|   1|          -3006.2234|                      -3013.5286|[0.0,40.564048767...|\n",
      "+-------------------+------------+---------+----------+--------------+---------------+------------------------+-------------------------+----------------+--------------------+----------+---------------------+-------------------+----+--------------------+--------------------------------+--------------------+\n",
      "only showing top 5 rows\n",
      "\n"
     ]
    }
   ],
   "source": [
    "from pyspark.sql.functions import col\n",
    "\n",
    "# Creating interaction terms\n",
    "df3 = df3.withColumn(\"Lat_Long_Interaction\", col(\"OriginLat\") * col(\"OriginLong\"))\n",
    "df3 = df3.withColumn(\"Destination_Lat_Long_Interaction\", col(\"DestinationLat\") * col(\"DestinationLong\"))\n",
    "\n",
    "df3 = df3.dropna()\n",
    "\n",
    "# Including interaction terms in the feature vector\n",
    "assembler = VectorAssembler(\n",
    "    inputCols=[\n",
    "        'DirectionRef',\n",
    "        'OriginLat',\n",
    "        'OriginLong',\n",
    "        'DestinationLat',\n",
    "        'DestinationLong',\n",
    "        'VehicleLocation_Latitude',\n",
    "        'VehicleLocation_Longitude',\n",
    "        'DistanceFromStop',\n",
    "        'Lat_Long_Interaction',\n",
    "        'Destination_Lat_Long_Interaction',\n",
    "        'Late'\n",
    "    ], \n",
    "    outputCol=\"features\"\n",
    ")\n",
    "\n",
    "output = assembler.transform(df3)\n",
    "output.show(5)"
   ]
  },
  {
   "cell_type": "code",
   "execution_count": 106,
   "metadata": {},
   "outputs": [
    {
     "name": "stdout",
     "output_type": "stream",
     "text": [
      "+--------------------+---------+\n",
      "|            features|LateIndex|\n",
      "+--------------------+---------+\n",
      "|[1.0,40.818675994...|      0.0|\n",
      "|[0.0,40.543460845...|      1.0|\n",
      "|[1.0,40.812946319...|      0.0|\n",
      "|[1.0,40.782291412...|      1.0|\n",
      "|[0.0,40.564048767...|      0.0|\n",
      "+--------------------+---------+\n",
      "only showing top 5 rows\n",
      "\n"
     ]
    }
   ],
   "source": [
    "from pyspark.ml.feature import StringIndexer\n",
    "\n",
    "# deal with the labels\n",
    "indexer = StringIndexer(inputCol=\"Late\", outputCol=\"LateIndex\")\n",
    "output_fixed = indexer.fit(output).transform(output)\n",
    "\n",
    "final_data = output_fixed.select(\"features\",'LateIndex')\n",
    "\n",
    "final_data.show(5)"
   ]
  },
  {
   "cell_type": "code",
   "execution_count": 107,
   "metadata": {},
   "outputs": [],
   "source": [
    "from pyspark.ml.classification import DecisionTreeClassifier,GBTClassifier,RandomForestClassifier\n",
    "from pyspark.ml import Pipeline\n",
    "\n",
    "train_data, test_data = final_data.randomSplit([0.8,0.2])\n",
    "\n",
    "# Use mostly defaults to make this comparison \"fair\"\n",
    "dtc = DecisionTreeClassifier(labelCol='LateIndex',featuresCol='features')\n",
    "dtc_model = dtc.fit(train_data)"
   ]
  },
  {
   "cell_type": "code",
   "execution_count": 108,
   "metadata": {},
   "outputs": [],
   "source": [
    "# Predictions on the test data\n",
    "dtc_predictions_test = dtc_model.transform(test_data)\n",
    "\n",
    "# Predictions on the training data\n",
    "dtc_predictions_train = dtc_model.transform(train_data)"
   ]
  },
  {
   "cell_type": "code",
   "execution_count": 109,
   "metadata": {},
   "outputs": [
    {
     "name": "stdout",
     "output_type": "stream",
     "text": [
      "+--------------------+---------+-------------+-----------+----------+\n",
      "|            features|LateIndex|rawPrediction|probability|prediction|\n",
      "+--------------------+---------+-------------+-----------+----------+\n",
      "|[0.0,40.564048767...|      0.0| [7942.0,0.0]|  [1.0,0.0]|       0.0|\n",
      "|[0.0,40.607929229...|      1.0| [0.0,5729.0]|  [0.0,1.0]|       1.0|\n",
      "|[0.0,40.631832122...|      1.0| [0.0,5729.0]|  [0.0,1.0]|       1.0|\n",
      "|[0.0,40.639846801...|      0.0| [7942.0,0.0]|  [1.0,0.0]|       0.0|\n",
      "|[0.0,40.704906463...|      1.0| [0.0,5729.0]|  [0.0,1.0]|       1.0|\n",
      "+--------------------+---------+-------------+-----------+----------+\n",
      "only showing top 5 rows\n",
      "\n"
     ]
    }
   ],
   "source": [
    "dtc_predictions_test.show(5)"
   ]
  },
  {
   "cell_type": "code",
   "execution_count": 110,
   "metadata": {},
   "outputs": [
    {
     "name": "stdout",
     "output_type": "stream",
     "text": [
      "+--------------------+---------+-------------+-----------+----------+\n",
      "|            features|LateIndex|rawPrediction|probability|prediction|\n",
      "+--------------------+---------+-------------+-----------+----------+\n",
      "|[0.0,40.543460845...|      1.0| [0.0,5729.0]|  [0.0,1.0]|       1.0|\n",
      "|[0.0,40.560760498...|      1.0| [0.0,5729.0]|  [0.0,1.0]|       1.0|\n",
      "|[0.0,40.575645446...|      0.0| [7942.0,0.0]|  [1.0,0.0]|       0.0|\n",
      "|[0.0,40.577037811...|      1.0| [0.0,5729.0]|  [0.0,1.0]|       1.0|\n",
      "|[0.0,40.577079772...|      1.0| [0.0,5729.0]|  [0.0,1.0]|       1.0|\n",
      "+--------------------+---------+-------------+-----------+----------+\n",
      "only showing top 5 rows\n",
      "\n"
     ]
    }
   ],
   "source": [
    "dtc_predictions_train.show(5)"
   ]
  },
  {
   "cell_type": "code",
   "execution_count": 111,
   "metadata": {},
   "outputs": [
    {
     "name": "stdout",
     "output_type": "stream",
     "text": [
      "Model Evaluation Results\n",
      "--------------------------------------------------------------------------------\n",
      "A single decision tree accuracy on training data: 100.00%\n",
      "A single decision tree accuracy on test data: 100.00%\n",
      "--------------------------------------------------------------------------------\n"
     ]
    }
   ],
   "source": [
    "from pyspark.ml.evaluation import MulticlassClassificationEvaluator\n",
    "\n",
    "# Initialize evaluator with accuracy metric\n",
    "acc_evaluator = MulticlassClassificationEvaluator(labelCol=\"LateIndex\", predictionCol=\"prediction\", metricName=\"accuracy\")\n",
    "\n",
    "# Evaluate accuracy on test data\n",
    "dtc_acc_test = acc_evaluator.evaluate(dtc_predictions_test)\n",
    "\n",
    "# Evaluate accuracy on training data\n",
    "dtc_acc_train = acc_evaluator.evaluate(dtc_predictions_train)\n",
    "\n",
    "# Print the results\n",
    "print(\"Model Evaluation Results\")\n",
    "print('-'*80)\n",
    "print(f'A single decision tree accuracy on training data: {dtc_acc_train*100:.2f}%')\n",
    "print(f'A single decision tree accuracy on test data: {dtc_acc_test*100:.2f}%')\n",
    "print('-'*80)"
   ]
  },
  {
   "cell_type": "markdown",
   "metadata": {},
   "source": [
    "### 3) Update feature: Binning and Categorization of Continuous Variables\n",
    "This method involves converting continuous variables into categorical ones through a process known as binning or discretization. By categorizing these data, we can potentially uncover patterns and relationships that are more directly interpretable and relevant for predictive modeling."
   ]
  },
  {
   "cell_type": "code",
   "execution_count": 112,
   "metadata": {},
   "outputs": [],
   "source": [
    "df4 = df"
   ]
  },
  {
   "cell_type": "code",
   "execution_count": 113,
   "metadata": {},
   "outputs": [
    {
     "name": "stdout",
     "output_type": "stream",
     "text": [
      "+-------------------+------------+---------+----------+--------------+---------------+------------------------+-------------------------+----------------+--------------------+----------+---------------------+-------------------+----+----------------+\n",
      "|     RecordedAtTime|DirectionRef|OriginLat|OriginLong|DestinationLat|DestinationLong|VehicleLocation_Latitude|VehicleLocation_Longitude|DistanceFromStop|ScheduledArrivalTime|RecordDate|AdjustedScheduledTime|          Scheduled|Late|DistanceCategory|\n",
      "+-------------------+------------+---------+----------+--------------+---------------+------------------------+-------------------------+----------------+--------------------+----------+---------------------+-------------------+----+----------------+\n",
      "|2017-06-29 08:11:04|         1.0|40.818676|-73.851555|     40.849033|      -73.93731|                40.84691|                -73.92052|            21.0|            08:11:00|2017-06-29|             08:11:00|2017-06-29 08:11:00|   1|      very_close|\n",
      "|2017-06-29 08:11:07|         0.0| 40.54346| -74.19723|      40.75992|      -73.96697|                40.56903|                -74.16955|           186.0|            08:12:38|2017-06-29|             08:12:38|2017-06-29 08:12:38|   0|           close|\n",
      "|2017-06-29 08:10:56|         1.0|40.812946| -73.82704|       40.8524|     -73.920105|               40.829937|                -73.82553|             0.0|            08:09:09|2017-06-29|             08:09:09|2017-06-29 08:09:09|   1|      very_close|\n",
      "|2017-06-29 08:11:02|         1.0| 40.78229| -73.77706|     40.760937|     -73.827286|               40.766495|               -73.789894|            77.0|            08:13:15|2017-06-29|             08:13:15|2017-06-29 08:13:15|   0|           close|\n",
      "|2017-06-29 08:10:59|         0.0| 40.56405|-74.110535|     40.714607|      -74.01591|               40.591076|                -74.08799|           608.0|            08:10:17|2017-06-29|             08:10:17|2017-06-29 08:10:17|   1|             far|\n",
      "|2017-06-29 08:10:38|         1.0|40.820633|  -73.9295|     40.849113|      -73.93775|               40.829803|               -73.930664|           313.0|            08:09:53|2017-06-29|             08:09:53|2017-06-29 08:09:53|   1|        moderate|\n",
      "|2017-06-29 08:11:03|         0.0|40.848953|-73.936874|     40.825405|      -73.89132|               40.839634|                -73.92135|           199.0|            08:11:53|2017-06-29|             08:11:53|2017-06-29 08:11:53|   0|           close|\n",
      "|2017-06-29 08:10:44|         1.0|40.840645|-73.938545|      40.73028|      -73.99053|                40.80915|                 -73.9483|             0.0|            08:03:23|2017-06-29|             08:03:23|2017-06-29 08:03:23|   1|      very_close|\n",
      "|2017-06-29 08:11:00|         1.0|40.676746| -73.89994|      40.65485|     -73.961754|               40.662407|               -73.937126|            54.0|            08:06:52|2017-06-29|             08:06:52|2017-06-29 08:06:52|   1|           close|\n",
      "|2017-06-29 08:10:47|         1.0| 40.75589| -73.98278|      40.70237|      -74.01304|                40.71733|                -74.00363|           198.0|            08:01:47|2017-06-29|             08:01:47|2017-06-29 08:01:47|   1|           close|\n",
      "|2017-06-29 08:11:01|         0.0| 40.70049|-73.807884|     40.753666|      -73.75709|                40.74935|                -73.75686|            59.0|            08:13:00|2017-06-29|             08:13:00|2017-06-29 08:13:00|   0|           close|\n",
      "|2017-06-29 08:10:40|         1.0|40.643192|  -74.0734|     40.639946|     -74.130585|               40.626263|                -74.09179|             0.0|            08:09:02|2017-06-29|             08:09:02|2017-06-29 08:09:02|   1|      very_close|\n",
      "|2017-06-29 08:11:04|         0.0| 40.69248|  -73.9279|      40.70444|      -73.79261|               40.682587|                 -73.9099|            16.0|            08:08:40|2017-06-29|             08:08:40|2017-06-29 08:08:40|   1|      very_close|\n",
      "|2017-06-29 08:10:56|         1.0| 40.76695| -73.95412|      40.77649|      -73.98872|               40.775986|                -73.97613|            69.0|            08:09:00|2017-06-29|             08:09:00|2017-06-29 08:09:00|   1|           close|\n",
      "|2017-06-29 08:20:18|         0.0|40.704906|-73.793304|      40.78415|     -73.845505|               40.748466|               -73.825966|           328.0|            08:24:07|2017-06-29|             08:24:07|2017-06-29 08:24:07|   0|        moderate|\n",
      "|2017-06-29 08:20:04|         0.0|40.660843|-73.961464|     40.737198|      -73.95576|               40.687553|                -73.94185|             0.0|            08:21:21|2017-06-29|             08:21:21|2017-06-29 08:21:21|   0|      very_close|\n",
      "|2017-06-29 08:20:06|         1.0|40.645504| -73.90254|      40.59295|     -73.993385|                40.63912|                 -73.9077|             7.0|            08:19:58|2017-06-29|             08:19:58|2017-06-29 08:19:58|   1|      very_close|\n",
      "|2017-06-29 08:20:00|         0.0|40.748043| -73.98896|     40.848263|     -73.937454|               40.788677|                -73.98105|            56.0|            08:16:29|2017-06-29|             08:16:29|2017-06-29 08:16:29|   1|           close|\n",
      "|2017-06-29 08:20:07|         0.0|40.704906|-73.793304|      40.78415|     -73.845505|                40.72989|                -73.82332|             3.0|            08:20:03|2017-06-29|             08:20:03|2017-06-29 08:20:03|   1|      very_close|\n",
      "|2017-06-29 08:20:01|         1.0| 40.83974|  -73.8432|     40.809654|      -73.92836|                40.84638|                -73.84435|            67.0|            08:14:41|2017-06-29|             08:14:41|2017-06-29 08:14:41|   1|           close|\n",
      "+-------------------+------------+---------+----------+--------------+---------------+------------------------+-------------------------+----------------+--------------------+----------+---------------------+-------------------+----+----------------+\n",
      "only showing top 20 rows\n",
      "\n"
     ]
    }
   ],
   "source": [
    "from pyspark.sql.functions import when\n",
    "\n",
    "# Categorize 'DistanceFromStop' into bins\n",
    "df4 = df4.withColumn(\"DistanceCategory\", \n",
    "                   when(col(\"DistanceFromStop\") < 50, \"very_close\")\n",
    "                   .when(col(\"DistanceFromStop\") < 200, \"close\")\n",
    "                   .when(col(\"DistanceFromStop\") < 500, \"moderate\")\n",
    "                   .otherwise(\"far\"))\n",
    "\n",
    "\n",
    "df4 = df4.dropna()\n",
    "df4.show()"
   ]
  },
  {
   "cell_type": "code",
   "execution_count": 114,
   "metadata": {},
   "outputs": [],
   "source": [
    "# Check and transform 'DistanceCategory' if necessary\n",
    "if \"DistanceCategory_Index\" not in df4.columns:\n",
    "    indexer = StringIndexer(inputCol=\"DistanceCategory\", outputCol=\"DistanceCategory_Index\")\n",
    "    df4 = indexer.fit(df4).transform(df4)\n",
    "\n",
    "if \"DistanceCategory_Vec\" not in df4.columns:\n",
    "    encoder = OneHotEncoder(inputCol=\"DistanceCategory_Index\", outputCol=\"DistanceCategory_Vec\")\n",
    "    df4 = encoder.transform(df4)"
   ]
  },
  {
   "cell_type": "code",
   "execution_count": 115,
   "metadata": {},
   "outputs": [
    {
     "name": "stdout",
     "output_type": "stream",
     "text": [
      "+-------------------+------------+---------+----------+--------------+---------------+------------------------+-------------------------+----------------+--------------------+----------+---------------------+-------------------+----+----------------+----------------------+--------------------+--------------------+\n",
      "|     RecordedAtTime|DirectionRef|OriginLat|OriginLong|DestinationLat|DestinationLong|VehicleLocation_Latitude|VehicleLocation_Longitude|DistanceFromStop|ScheduledArrivalTime|RecordDate|AdjustedScheduledTime|          Scheduled|Late|DistanceCategory|DistanceCategory_Index|DistanceCategory_Vec|            features|\n",
      "+-------------------+------------+---------+----------+--------------+---------------+------------------------+-------------------------+----------------+--------------------+----------+---------------------+-------------------+----+----------------+----------------------+--------------------+--------------------+\n",
      "|2017-06-29 08:11:04|         1.0|40.818676|-73.851555|     40.849033|      -73.93731|                40.84691|                -73.92052|            21.0|            08:11:00|2017-06-29|             08:11:00|2017-06-29 08:11:00|   1|      very_close|                   1.0|       (3,[1],[1.0])|[1.0,40.818675994...|\n",
      "|2017-06-29 08:11:07|         0.0| 40.54346| -74.19723|      40.75992|      -73.96697|                40.56903|                -74.16955|           186.0|            08:12:38|2017-06-29|             08:12:38|2017-06-29 08:12:38|   0|           close|                   0.0|       (3,[0],[1.0])|[0.0,40.543460845...|\n",
      "|2017-06-29 08:10:56|         1.0|40.812946| -73.82704|       40.8524|     -73.920105|               40.829937|                -73.82553|             0.0|            08:09:09|2017-06-29|             08:09:09|2017-06-29 08:09:09|   1|      very_close|                   1.0|       (3,[1],[1.0])|[1.0,40.812946319...|\n",
      "|2017-06-29 08:11:02|         1.0| 40.78229| -73.77706|     40.760937|     -73.827286|               40.766495|               -73.789894|            77.0|            08:13:15|2017-06-29|             08:13:15|2017-06-29 08:13:15|   0|           close|                   0.0|       (3,[0],[1.0])|[1.0,40.782291412...|\n",
      "|2017-06-29 08:10:59|         0.0| 40.56405|-74.110535|     40.714607|      -74.01591|               40.591076|                -74.08799|           608.0|            08:10:17|2017-06-29|             08:10:17|2017-06-29 08:10:17|   1|             far|                   3.0|           (3,[],[])|[0.0,40.564048767...|\n",
      "+-------------------+------------+---------+----------+--------------+---------------+------------------------+-------------------------+----------------+--------------------+----------+---------------------+-------------------+----+----------------+----------------------+--------------------+--------------------+\n",
      "only showing top 5 rows\n",
      "\n"
     ]
    }
   ],
   "source": [
    "assembler = VectorAssembler(\n",
    "    inputCols=[\n",
    "        'DirectionRef',\n",
    "        'OriginLat',\n",
    "        'OriginLong',\n",
    "        'DestinationLat',\n",
    "        'DestinationLong',\n",
    "        'VehicleLocation_Latitude',\n",
    "        'VehicleLocation_Longitude',\n",
    "        'DistanceFromStop',\n",
    "        'DistanceCategory_Vec'\n",
    "    ],\n",
    "    outputCol=\"features\"\n",
    ")\n",
    "\n",
    "output = assembler.transform(df4)\n",
    "output.show(5)"
   ]
  },
  {
   "cell_type": "code",
   "execution_count": 116,
   "metadata": {},
   "outputs": [
    {
     "name": "stdout",
     "output_type": "stream",
     "text": [
      "+--------------------+---------+\n",
      "|            features|LateIndex|\n",
      "+--------------------+---------+\n",
      "|[1.0,40.818675994...|      0.0|\n",
      "|[0.0,40.543460845...|      1.0|\n",
      "|[1.0,40.812946319...|      0.0|\n",
      "|[1.0,40.782291412...|      1.0|\n",
      "|[0.0,40.564048767...|      0.0|\n",
      "+--------------------+---------+\n",
      "only showing top 5 rows\n",
      "\n"
     ]
    }
   ],
   "source": [
    "from pyspark.ml.feature import StringIndexer\n",
    "\n",
    "# deal with the labels\n",
    "indexer = StringIndexer(inputCol=\"Late\", outputCol=\"LateIndex\")\n",
    "output_fixed = indexer.fit(output).transform(output)\n",
    "\n",
    "final_data = output_fixed.select(\"features\",'LateIndex')\n",
    "\n",
    "final_data.show(5)"
   ]
  },
  {
   "cell_type": "code",
   "execution_count": 117,
   "metadata": {},
   "outputs": [],
   "source": [
    "from pyspark.ml.classification import DecisionTreeClassifier,GBTClassifier,RandomForestClassifier\n",
    "from pyspark.ml import Pipeline\n",
    "\n",
    "train_data, test_data = final_data.randomSplit([0.8,0.2])\n",
    "\n",
    "# Use mostly defaults to make this comparison \"fair\"\n",
    "dtc = DecisionTreeClassifier(labelCol='LateIndex',featuresCol='features')\n",
    "dtc_model = dtc.fit(train_data)"
   ]
  },
  {
   "cell_type": "code",
   "execution_count": 118,
   "metadata": {},
   "outputs": [],
   "source": [
    "# Predictions on the test data\n",
    "dtc_predictions_test = dtc_model.transform(test_data)\n",
    "\n",
    "# Predictions on the training data\n",
    "dtc_predictions_train = dtc_model.transform(train_data)"
   ]
  },
  {
   "cell_type": "code",
   "execution_count": 119,
   "metadata": {},
   "outputs": [
    {
     "name": "stdout",
     "output_type": "stream",
     "text": [
      "+--------------------+---------+---------------+--------------------+----------+\n",
      "|            features|LateIndex|  rawPrediction|         probability|prediction|\n",
      "+--------------------+---------+---------------+--------------------+----------+\n",
      "|[0.0,40.575645446...|      0.0|  [179.0,149.0]|[0.54573170731707...|       0.0|\n",
      "|[0.0,40.607929229...|      1.0|  [179.0,149.0]|[0.54573170731707...|       0.0|\n",
      "|[0.0,40.729568481...|      1.0|[3447.0,2450.0]|[0.58453450907240...|       0.0|\n",
      "|[0.0,40.748043060...|      0.0|[3447.0,2450.0]|[0.58453450907240...|       0.0|\n",
      "|[0.0,40.788356781...|      0.0|[3447.0,2450.0]|[0.58453450907240...|       0.0|\n",
      "+--------------------+---------+---------------+--------------------+----------+\n",
      "only showing top 5 rows\n",
      "\n"
     ]
    }
   ],
   "source": [
    "dtc_predictions_test.show(5)"
   ]
  },
  {
   "cell_type": "code",
   "execution_count": 120,
   "metadata": {},
   "outputs": [
    {
     "name": "stdout",
     "output_type": "stream",
     "text": [
      "+--------------------+---------+-------------+--------------------+----------+\n",
      "|            features|LateIndex|rawPrediction|         probability|prediction|\n",
      "+--------------------+---------+-------------+--------------------+----------+\n",
      "|[0.0,40.543460845...|      1.0|  [50.0,80.0]|[0.38461538461538...|       1.0|\n",
      "|[0.0,40.560760498...|      1.0|[104.0,189.0]|[0.35494880546075...|       1.0|\n",
      "|[0.0,40.564048767...|      0.0|[104.0,189.0]|[0.35494880546075...|       1.0|\n",
      "|[0.0,40.577037811...|      1.0|[179.0,149.0]|[0.54573170731707...|       0.0|\n",
      "|[0.0,40.577079772...|      1.0|[104.0,189.0]|[0.35494880546075...|       1.0|\n",
      "+--------------------+---------+-------------+--------------------+----------+\n",
      "only showing top 5 rows\n",
      "\n"
     ]
    }
   ],
   "source": [
    "dtc_predictions_train.show(5)"
   ]
  },
  {
   "cell_type": "code",
   "execution_count": 121,
   "metadata": {},
   "outputs": [
    {
     "name": "stdout",
     "output_type": "stream",
     "text": [
      "Model Evaluation Results\n",
      "--------------------------------------------------------------------------------\n",
      "A single decision tree accuracy on training data: 62.77%\n",
      "A single decision tree accuracy on test data: 61.86%\n",
      "--------------------------------------------------------------------------------\n"
     ]
    }
   ],
   "source": [
    "from pyspark.ml.evaluation import MulticlassClassificationEvaluator\n",
    "\n",
    "# Initialize evaluator with accuracy metric\n",
    "acc_evaluator = MulticlassClassificationEvaluator(labelCol=\"LateIndex\", predictionCol=\"prediction\", metricName=\"accuracy\")\n",
    "\n",
    "# Evaluate accuracy on test data\n",
    "dtc_acc_test = acc_evaluator.evaluate(dtc_predictions_test)\n",
    "\n",
    "# Evaluate accuracy on training data\n",
    "dtc_acc_train = acc_evaluator.evaluate(dtc_predictions_train)\n",
    "\n",
    "# Print the results\n",
    "print(\"Model Evaluation Results\")\n",
    "print('-'*80)\n",
    "print(f'A single decision tree accuracy on training data: {dtc_acc_train*100:.2f}%')\n",
    "print(f'A single decision tree accuracy on test data: {dtc_acc_test*100:.2f}%')\n",
    "print('-'*80)"
   ]
  },
  {
   "cell_type": "markdown",
   "metadata": {},
   "source": [
    "### Hyperparameter Tuning using CrossValidator\n",
    "\n",
    "In this step, we perform hyperparameter tuning using 3-fold cross-validation with a parameter grid for DecisionTreeClassifier. We evaluate models based on F1 score.\n"
   ]
  },
  {
   "cell_type": "code",
   "execution_count": 130,
   "metadata": {},
   "outputs": [
    {
     "name": "stdout",
     "output_type": "stream",
     "text": [
      "Best Decision Tree Model Parameters:\n",
      "  - maxDepth: 5\n",
      "  - maxBins: 64\n",
      "Test Set Accuracy: 0.5789\n"
     ]
    }
   ],
   "source": [
    "# Hyperparameter tuning with TrainValidationSplit\n",
    "from pyspark.ml.tuning import ParamGridBuilder, TrainValidationSplit\n",
    "from pyspark.ml.evaluation import MulticlassClassificationEvaluator\n",
    "\n",
    "# Use a small subset of the training data for quick experimentation\n",
    "train_sample = train_data.sample(False, 0.1, seed=42)\n",
    "\n",
    "# Define the model\n",
    "dtc = DecisionTreeClassifier(labelCol=\"LateIndex\", featuresCol=\"features\")\n",
    "\n",
    "# Define evaluator\n",
    "evaluator = MulticlassClassificationEvaluator(\n",
    "    labelCol=\"LateIndex\", predictionCol=\"prediction\", metricName=\"accuracy\"\n",
    ")\n",
    "\n",
    "# Define a parameter grid to explore\n",
    "paramGrid = ParamGridBuilder()\\\n",
    "    .addGrid(dtc.maxDepth, [3, 5, 10])\\\n",
    "    .addGrid(dtc.maxBins, [16, 32, 64])\\\n",
    "    .build()\n",
    "\n",
    "# Define the TrainValidationSplit\n",
    "tvs = TrainValidationSplit(\n",
    "    estimator=dtc,\n",
    "    estimatorParamMaps=paramGrid,\n",
    "    evaluator=evaluator,\n",
    "    trainRatio=0.8,  # 80% for training, 20% for validation\n",
    "    parallelism=2    # number of threads to use in parallel\n",
    ")\n",
    "\n",
    "# Fit the model with hyperparameter tuning\n",
    "tvs_model = tvs.fit(train_sample)\n",
    "\n",
    "# Extract the best model\n",
    "best_model = tvs_model.bestModel\n",
    "\n",
    "# Evaluate best model on full test set\n",
    "predictions = best_model.transform(test_data)\n",
    "accuracy = evaluator.evaluate(predictions)\n",
    "\n",
    "print(\"Best Decision Tree Model Parameters:\")\n",
    "print(f\"  - maxDepth: {best_model._java_obj.getMaxDepth()}\")\n",
    "print(f\"  - maxBins: {best_model._java_obj.getMaxBins()}\")\n",
    "print(f\"Test Set Accuracy: {accuracy:.4f}\")"
   ]
  },
  {
   "cell_type": "code",
   "execution_count": 131,
   "metadata": {},
   "outputs": [
    {
     "name": "stdout",
     "output_type": "stream",
     "text": [
      "All Hyperparameter Combinations and Their Accuracy:\n",
      "  Combo 1: maxDepth=3, maxBins=16 --> Accuracy=0.6130\n",
      "  Combo 2: maxDepth=3, maxBins=32 --> Accuracy=0.6116\n",
      "  Combo 3: maxDepth=3, maxBins=64 --> Accuracy=0.6123\n",
      "  Combo 4: maxDepth=5, maxBins=16 --> Accuracy=0.6215\n",
      "  Combo 5: maxDepth=5, maxBins=32 --> Accuracy=0.6180\n",
      "  Combo 6: maxDepth=5, maxBins=64 --> Accuracy=0.6109\n",
      "  Combo 7: maxDepth=10, maxBins=16 --> Accuracy=0.5986\n",
      "  Combo 8: maxDepth=10, maxBins=32 --> Accuracy=0.6123\n",
      "  Combo 9: maxDepth=10, maxBins=64 --> Accuracy=0.6151\n",
      "Best Decision Tree Parameters on FULL DATA:\n",
      "  - maxDepth: 5\n",
      "  - maxBins: 16\n",
      "Test Set Accuracy on full data: 0.6235\n",
      "Results saved to 'milestone3_result_summary.txt'\n"
     ]
    }
   ],
   "source": [
    "# Hyperparameter Tuning on FULL training dataset\n",
    "\n",
    "# Re-fit TrainValidationSplit using full training data\n",
    "tvs_model_full = tvs.fit(train_data)\n",
    "\n",
    "# Record all hyperparameter results on full data\n",
    "metrics = tvs_model_full.validationMetrics  # list of accuracy scores\n",
    "param_maps = tvs_model_full.getEstimatorParamMaps()\n",
    "\n",
    "print(\"All Hyperparameter Combinations and Their Accuracy:\")\n",
    "\n",
    "# Prepare lines to save\n",
    "result_lines = []\n",
    "\n",
    "for i, (params, acc) in enumerate(zip(param_maps, metrics)):\n",
    "    max_depth = params[dtc.maxDepth]\n",
    "    max_bins = params[dtc.maxBins]\n",
    "    line = f\"  Combo {i+1}: maxDepth={max_depth}, maxBins={max_bins} --> Accuracy={acc:.4f}\"\n",
    "    print(line)\n",
    "    result_lines.append(line)\n",
    "\n",
    "# Save all combo results to the summary file\n",
    "with open(\"milestone3_result_summary.txt\", \"a\") as f:\n",
    "    f.write(\"\\\\nAll Hyperparameter Combinations:\\\\n\")\n",
    "    for line in result_lines:\n",
    "        f.write(line + \"\\\\n\")\n",
    "\n",
    "# Get the best model from full-data tuning\n",
    "best_model_full = tvs_model_full.bestModel\n",
    "\n",
    "# Evaluate on the full test set\n",
    "full_predictions = best_model_full.transform(test_data)\n",
    "full_accuracy = evaluator.evaluate(full_predictions)\n",
    "\n",
    "# Output the final results\n",
    "print(\"Best Decision Tree Parameters on FULL DATA:\")\n",
    "print(f\"  - maxDepth: {best_model_full._java_obj.getMaxDepth()}\")\n",
    "print(f\"  - maxBins: {best_model_full._java_obj.getMaxBins()}\")\n",
    "print(f\"Test Set Accuracy on full data: {full_accuracy:.4f}\")\n",
    "\n",
    "\n",
    "# Save result summary to text file\n",
    "with open(\"milestone3_result_summary.txt\", \"w\") as f:\n",
    "    f.write(\"Best Decision Tree Parameters on FULL DATA:\\\\n\")\n",
    "    f.write(f\"  - maxDepth: {best_model_full._java_obj.getMaxDepth()}\\\\n\")\n",
    "    f.write(f\"  - maxBins: {best_model_full._java_obj.getMaxBins()}\\\\n\")\n",
    "    f.write(f\"Test Set Accuracy on full data: {full_accuracy:.4f}\\\\n\")\n",
    "\n",
    "print(\"Results saved to 'milestone3_result_summary.txt'\")"
   ]
  },
  {
   "cell_type": "markdown",
   "id": "44fb964f",
   "metadata": {},
   "source": [
    "## Milestone 4"
   ]
  },
  {
   "cell_type": "markdown",
   "id": "d99897f7",
   "metadata": {},
   "source": [
    "#### 1. Gradient Bosted Decision Trees"
   ]
  },
  {
   "cell_type": "code",
   "execution_count": null,
   "id": "4f10d907",
   "metadata": {},
   "outputs": [],
   "source": [
    "df5 = df"
   ]
  },
  {
   "cell_type": "code",
   "execution_count": null,
   "id": "d5fd082f",
   "metadata": {},
   "outputs": [
    {
     "name": "stdout",
     "output_type": "stream",
     "text": [
      "+-------------------+------------+---------+----------+--------------+---------------+------------------------+-------------------------+----------------+--------------------+----------+---------------------+-------------------+----+\n",
      "|     RecordedAtTime|DirectionRef|OriginLat|OriginLong|DestinationLat|DestinationLong|VehicleLocation_Latitude|VehicleLocation_Longitude|DistanceFromStop|ScheduledArrivalTime|RecordDate|AdjustedScheduledTime|          Scheduled|Late|\n",
      "+-------------------+------------+---------+----------+--------------+---------------+------------------------+-------------------------+----------------+--------------------+----------+---------------------+-------------------+----+\n",
      "|2017-06-01 07:53:26|         1.0|40.662983|-73.957275|     40.578117|      -73.93986|               40.595947|                -73.95076|           847.0|            07:51:45|2017-06-01|             07:51:45|2017-06-01 07:51:45|   1|\n",
      "|2017-06-01 07:53:15|         0.0|40.660843|-73.961464|     40.737198|      -73.95576|                40.66368|               -73.954605|            48.0|            07:53:13|2017-06-01|             07:53:13|2017-06-01 07:53:13|   1|\n",
      "|2017-06-01 07:53:09|         0.0| 40.57709|-73.981636|      40.63707|      -74.03609|               40.637108|                -74.03619|            15.0|                  NA|2017-06-01|                   NA|               null|null|\n",
      "|2017-06-01 07:53:20|         1.0|40.699505| -73.95348|     40.593864|      -73.94067|               40.656113|                -73.95014|           122.0|            07:57:48|2017-06-01|             07:57:48|2017-06-01 07:57:48|   0|\n",
      "|2017-06-01 07:53:21|         0.0|40.700176|-73.910255|     40.757343|      -73.82936|               40.725098|                -73.89684|           260.0|            07:55:09|2017-06-01|             07:55:09|2017-06-01 07:55:09|   0|\n",
      "|2017-06-01 07:53:34|         0.0| 40.67839| -73.90355|      40.70756|     -73.789856|               40.678204|                -73.90349|           492.0|            07:58:00|2017-06-01|             07:58:00|2017-06-01 07:58:00|   0|\n",
      "|2017-06-01 07:53:03|         0.0|40.586792| -74.19914|      40.64357|      -74.07323|                40.63003|                -74.08923|            45.0|            07:42:00|2017-06-01|             07:42:00|2017-06-01 07:42:00|   1|\n",
      "|2017-06-01 07:53:18|         1.0|40.818676|-73.851555|     40.849033|      -73.93731|                40.84528|               -73.924446|           642.0|            07:49:19|2017-06-01|             07:49:19|2017-06-01 07:49:19|   1|\n",
      "|2017-06-01 07:53:34|         1.0|40.716423| -73.98025|     40.744415|      -74.00815|                40.73919|                -74.00119|           175.0|            07:56:36|2017-06-01|             07:56:36|2017-06-01 07:56:36|   0|\n",
      "|2017-06-01 07:53:16|         1.0|40.657738| -73.74121|     40.701683|     -73.802475|               40.663822|                -73.73554|           162.0|            07:54:14|2017-06-01|             07:54:14|2017-06-01 07:54:14|   0|\n",
      "|2017-06-01 07:53:15|         1.0| 40.88997| -73.81965|      40.87506|      -73.87955|               40.875065|                -73.87947|           113.0|                  NA|2017-06-01|                   NA|               null|null|\n",
      "|2017-06-01 07:53:03|         1.0| 40.69311|-73.931175|     40.609142|      -73.92144|               40.636826|                -73.92879|           479.0|            07:50:30|2017-06-01|             07:50:30|2017-06-01 07:50:30|   1|\n",
      "|2017-06-01 07:53:06|         0.0|40.849113| -73.93775|     40.820507|      -73.85163|                40.83717|                -73.88676|             0.0|            07:53:49|2017-06-01|             07:53:49|2017-06-01 07:53:49|   0|\n",
      "|2017-06-01 07:53:08|         0.0|40.594242| -73.94058|     40.698883|      -73.95692|               40.642136|                -73.95155|          1007.0|            08:00:52|2017-06-01|             08:00:52|2017-06-01 08:00:52|   0|\n",
      "|2017-06-01 07:53:20|         0.0|40.561035|  -74.1707|      40.70297|      -74.01183|               40.705414|               -74.007065|           495.0|            07:59:00|2017-06-01|             07:59:00|2017-06-01 07:59:00|   0|\n",
      "|2017-06-01 07:53:06|         1.0|40.717834| -73.73563|     40.734978|      -73.86959|               40.743744|                -73.83592|          1434.0|            07:58:07|2017-06-01|             07:58:07|2017-06-01 07:58:07|   0|\n",
      "|2017-06-01 08:04:03|         0.0|40.849327| -73.93651|     40.885086|      -73.90044|                40.86361|                -73.90439|           241.0|            08:04:05|2017-06-01|             08:04:05|2017-06-01 08:04:05|   0|\n",
      "|2017-06-01 08:04:24|         0.0| 40.70217|-74.013535|      40.80315|      -73.93227|                40.70215|                -74.01357|             0.0|            08:02:00|2017-06-01|             08:02:00|2017-06-01 08:02:00|   1|\n",
      "|2017-06-01 08:04:10|         0.0| 40.65489| -73.96172|      40.67682|      -73.89966|                 40.6567|                -73.93962|           115.0|            07:49:00|2017-06-01|             07:49:00|2017-06-01 07:49:00|   1|\n",
      "|2017-06-01 08:04:27|         0.0|40.609253| -73.92154|     40.695408|      -73.99078|                 40.6318|                -73.94658|           135.0|            08:05:00|2017-06-01|             08:05:00|2017-06-01 08:05:00|   0|\n",
      "+-------------------+------------+---------+----------+--------------+---------------+------------------------+-------------------------+----------------+--------------------+----------+---------------------+-------------------+----+\n",
      "only showing top 20 rows\n",
      "\n"
     ]
    }
   ],
   "source": [
    "df5.show()"
   ]
  },
  {
   "cell_type": "code",
   "execution_count": null,
   "id": "8a4ffbaf",
   "metadata": {},
   "outputs": [],
   "source": [
    "# no early stopping\n",
    "from pyspark.ml.classification import GBTClassifier\n",
    "from pyspark.ml.feature import VectorAssembler\n",
    "from pyspark.ml import Pipeline\n",
    "from pyspark.ml.evaluation import MulticlassClassificationEvaluator\n",
    "from pyspark.sql.functions import rand\n",
    "\n",
    "# Step 1: Clean data\n",
    "df_clean = df5.filter(df[\"Late\"].isNotNull())\n",
    "\n",
    "# Step 2: Feature selection\n",
    "feature_cols = [\n",
    "    'DirectionRef', 'OriginLat', 'OriginLong', 'DestinationLat', 'DestinationLong',\n",
    "    'VehicleLocation_Latitude', 'VehicleLocation_Longitude', 'DistanceFromStop'\n",
    "]\n",
    "\n",
    "assembler = VectorAssembler(inputCols=feature_cols, outputCol=\"features\")\n",
    "\n",
    "# Step 3: Train/Validation split\n",
    "df_split = df_clean.withColumn(\"rand\", rand())\n",
    "train_df = df_split.filter(\"rand < 0.8\").drop(\"rand\")\n",
    "val_df = df_split.filter(\"rand >= 0.8\").drop(\"rand\")\n",
    "\n",
    "# Step 4: Evaluator\n",
    "evaluator = MulticlassClassificationEvaluator(labelCol=\"Late\", predictionCol=\"prediction\", metricName=\"accuracy\")"
   ]
  },
  {
   "cell_type": "code",
   "execution_count": null,
   "id": "1130fdfa",
   "metadata": {},
   "outputs": [
    {
     "name": "stdout",
     "output_type": "stream",
     "text": [
      "📌 Baseline GBDT (maxIter=50)\n",
      "   ➤ Train Accuracy:      0.7321\n",
      "   ➤ Validation Accuracy: 0.7012\n"
     ]
    }
   ],
   "source": [
    "# BASELINE GBDT (Fixed maxIter, no early stopping)\n",
    "baseline_gbt = GBTClassifier(\n",
    "    labelCol=\"Late\",\n",
    "    featuresCol=\"features\",\n",
    "    maxIter=50,        # fixed number of iterations\n",
    "    maxDepth=5,\n",
    "    stepSize=0.1,\n",
    "    seed=42\n",
    ")\n",
    "\n",
    "baseline_pipeline = Pipeline(stages=[assembler, baseline_gbt])\n",
    "baseline_model = baseline_pipeline.fit(train_df)\n",
    "\n",
    "baseline_train_acc = evaluator.evaluate(baseline_model.transform(train_df))\n",
    "baseline_val_acc = evaluator.evaluate(baseline_model.transform(val_df))\n",
    "\n",
    "print(\"📌 Baseline GBDT (maxIter=50)\")\n",
    "print(f\"   ➤ Train Accuracy:      {baseline_train_acc:.4f}\")\n",
    "print(f\"   ➤ Validation Accuracy: {baseline_val_acc:.4f}\")"
   ]
  },
  {
   "cell_type": "code",
   "execution_count": null,
   "id": "2d548f13",
   "metadata": {},
   "outputs": [
    {
     "name": "stdout",
     "output_type": "stream",
     "text": [
      "🔁 maxIter=10 | Train Acc=0.7107 | Val Acc=0.6968\n",
      "🔁 maxIter=20 | Train Acc=0.7173 | Val Acc=0.6981\n",
      "🔁 maxIter=30 | Train Acc=0.7226 | Val Acc=0.6984\n",
      "🔁 maxIter=40 | Train Acc=0.7278 | Val Acc=0.6981\n",
      "🔁 maxIter=50 | Train Acc=0.7321 | Val Acc=0.7012\n",
      "🔁 maxIter=60 | Train Acc=0.7350 | Val Acc=0.7012\n",
      "\n",
      "✅ Best GBDT with Early Stopping:\n",
      "   ➤ Optimal maxIter:      50\n",
      "   ➤ Train Accuracy:       0.7321\n",
      "   ➤ Validation Accuracy:  0.7012\n"
     ]
    }
   ],
   "source": [
    "# EARLY STOPPING (manual loop over maxIter)\n",
    "best_val_acc = 0\n",
    "best_model = None\n",
    "best_iter = 0\n",
    "best_train_acc = 0\n",
    "\n",
    "for n_iter in [10, 20, 30, 40, 50, 60]:\n",
    "    gbt = GBTClassifier(\n",
    "        labelCol=\"Late\",\n",
    "        featuresCol=\"features\",\n",
    "        maxIter=n_iter,\n",
    "        maxDepth=5,\n",
    "        stepSize=0.1,\n",
    "        seed=42\n",
    "    )\n",
    "    \n",
    "    pipeline = Pipeline(stages=[assembler, gbt])\n",
    "    model = pipeline.fit(train_df)\n",
    "    \n",
    "    train_preds = model.transform(train_df)\n",
    "    val_preds = model.transform(val_df)\n",
    "    \n",
    "    train_acc = evaluator.evaluate(train_preds)\n",
    "    val_acc = evaluator.evaluate(val_preds)\n",
    "    \n",
    "    print(f\"🔁 maxIter={n_iter} | Train Acc={train_acc:.4f} | Val Acc={val_acc:.4f}\")\n",
    "    \n",
    "    if val_acc > best_val_acc:\n",
    "        best_val_acc = val_acc\n",
    "        best_train_acc = train_acc\n",
    "        best_model = model\n",
    "        best_iter = n_iter\n",
    "\n",
    "# ---------------------------------------------------------------------------- #\n",
    "print(f\"\\n✅ Best GBDT with Early Stopping:\")\n",
    "print(f\"   ➤ Optimal maxIter:      {best_iter}\")\n",
    "print(f\"   ➤ Train Accuracy:       {best_train_acc:.4f}\")\n",
    "print(f\"   ➤ Validation Accuracy:  {best_val_acc:.4f}\")"
   ]
  },
  {
   "cell_type": "markdown",
   "id": "94b79b83",
   "metadata": {},
   "source": [
    "For our dataset, early stopping didn't drastically improve performance, but it confirmed:\n",
    "\n",
    "- The model was not overfitting (yet),\n",
    "\n",
    "- We didn't need more than 50 iterations,\n",
    "\n",
    "- The model was trained efficiently and confidently without wasting resources."
   ]
  },
  {
   "cell_type": "markdown",
   "id": "1cc90604",
   "metadata": {},
   "source": [
    "#### 2. Logistic Regression"
   ]
  },
  {
   "cell_type": "code",
   "execution_count": null,
   "id": "cef1d9bc",
   "metadata": {},
   "outputs": [
    {
     "name": "stderr",
     "output_type": "stream",
     "text": [
      "[Stage 17:>                                                         (0 + 1) / 1]\r"
     ]
    },
    {
     "name": "stdout",
     "output_type": "stream",
     "text": [
      "+-------------------+------------+---------+----------+--------------+---------------+------------------------+-------------------------+----------------+-------------------+----+--------------------+\n",
      "|     RecordedAtTime|DirectionRef|OriginLat|OriginLong|DestinationLat|DestinationLong|VehicleLocation_Latitude|VehicleLocation_Longitude|DistanceFromStop|          Scheduled|Late|            features|\n",
      "+-------------------+------------+---------+----------+--------------+---------------+------------------------+-------------------------+----------------+-------------------+----+--------------------+\n",
      "|2025-04-13 09:17:00|         1.0|40.771725| -73.73475|     40.758987|      -73.83178|               40.759945|                -73.81666|            93.0|2025-04-13 12:02:31|   0|[1.0,40.771724700...|\n",
      "|2017-06-04 12:09:13|         0.0|   40.696|-73.990944|      40.69929|      -73.91075|                40.69322|                -73.90786|             0.0|2017-06-04 12:09:36|   0|[0.0,40.695999145...|\n",
      "|2017-06-04 12:09:07|         0.0| 40.87493|  -73.8808|     40.889843|      -73.81952|                40.89612|                -73.86714|            52.0|2017-06-04 12:11:50|   0|[0.0,40.874931335...|\n",
      "|2017-06-04 12:08:58|         1.0|40.871967| -73.91304|     40.802273|     -73.931145|               40.829636|                -73.94439|           202.0|2017-06-04 12:16:17|   0|[1.0,40.871967315...|\n",
      "|2017-06-04 12:09:16|         0.0|40.577038| -73.98144|     40.660854|      -73.97939|               40.633556|                -73.96714|            47.0|2017-06-04 12:05:55|   1|[0.0,40.577037811...|\n",
      "+-------------------+------------+---------+----------+--------------+---------------+------------------------+-------------------------+----------------+-------------------+----+--------------------+\n",
      "only showing top 5 rows\n",
      "\n"
     ]
    },
    {
     "name": "stderr",
     "output_type": "stream",
     "text": [
      "                                                                                \r"
     ]
    }
   ],
   "source": [
    "from pyspark.ml.linalg import Vectors\n",
    "from pyspark.ml.feature import VectorAssembler\n",
    "\n",
    "df_lr = df1\n",
    "\n",
    "assembler = VectorAssembler(\n",
    "  inputCols=[\n",
    " 'DirectionRef',\n",
    " 'OriginLat',\n",
    " 'OriginLong',\n",
    " 'DestinationLat',\n",
    " 'DestinationLong',\n",
    " 'VehicleLocation_Latitude',\n",
    " 'VehicleLocation_Longitude',\n",
    " 'DistanceFromStop',\n",
    " 'Late'], outputCol=\"features\")\n",
    "\n",
    "output = assembler.transform(df_lr)\n",
    "output.show(5)"
   ]
  },
  {
   "cell_type": "code",
   "execution_count": null,
   "id": "16a929e7",
   "metadata": {},
   "outputs": [
    {
     "name": "stderr",
     "output_type": "stream",
     "text": [
      "[Stage 21:>                                                         (0 + 1) / 1]\r"
     ]
    },
    {
     "name": "stdout",
     "output_type": "stream",
     "text": [
      "+--------------------+---------+\n",
      "|            features|LateIndex|\n",
      "+--------------------+---------+\n",
      "|[1.0,40.771724700...|      1.0|\n",
      "|[0.0,40.695999145...|      1.0|\n",
      "|[0.0,40.874931335...|      1.0|\n",
      "|[1.0,40.871967315...|      1.0|\n",
      "|[0.0,40.577037811...|      0.0|\n",
      "+--------------------+---------+\n",
      "only showing top 5 rows\n",
      "\n"
     ]
    },
    {
     "name": "stderr",
     "output_type": "stream",
     "text": [
      "                                                                                \r"
     ]
    }
   ],
   "source": [
    "from pyspark.ml.feature import StringIndexer\n",
    "\n",
    "# deal with the labels\n",
    "indexer = StringIndexer(inputCol=\"Late\", outputCol=\"LateIndex\")\n",
    "output_fixed = indexer.fit(output).transform(output)\n",
    "\n",
    "final_data_lr = output_fixed.select(\"features\",'LateIndex')\n",
    "\n",
    "final_data_lr.show(5)"
   ]
  },
  {
   "cell_type": "code",
   "execution_count": null,
   "id": "b1e488a0",
   "metadata": {},
   "outputs": [
    {
     "name": "stderr",
     "output_type": "stream",
     "text": [
      "25/04/13 00:50:37 WARN SQLConf: The SQL config 'spark.sql.execution.arrow.enabled' has been deprecated in Spark v3.0 and may be removed in the future. Use 'spark.sql.execution.arrow.pyspark.enabled' instead of it.\n",
      "25/04/13 00:50:37 WARN SQLConf: The SQL config 'spark.sql.execution.arrow.enabled' has been deprecated in Spark v3.0 and may be removed in the future. Use 'spark.sql.execution.arrow.pyspark.enabled' instead of it.\n",
      "25/04/13 00:50:37 WARN SQLConf: The SQL config 'spark.sql.execution.arrow.enabled' has been deprecated in Spark v3.0 and may be removed in the future. Use 'spark.sql.execution.arrow.pyspark.enabled' instead of it.\n",
      "25/04/13 00:50:37 WARN SQLConf: The SQL config 'spark.sql.execution.arrow.enabled' has been deprecated in Spark v3.0 and may be removed in the future. Use 'spark.sql.execution.arrow.pyspark.enabled' instead of it.\n",
      "25/04/13 00:50:43 WARN SQLConf: The SQL config 'spark.sql.execution.arrow.enabled' has been deprecated in Spark v3.0 and may be removed in the future. Use 'spark.sql.execution.arrow.pyspark.enabled' instead of it.\n",
      "25/04/13 00:50:43 WARN SQLConf: The SQL config 'spark.sql.execution.arrow.enabled' has been deprecated in Spark v3.0 and may be removed in the future. Use 'spark.sql.execution.arrow.pyspark.enabled' instead of it.\n",
      "25/04/13 00:50:43 WARN SQLConf: The SQL config 'spark.sql.execution.arrow.enabled' has been deprecated in Spark v3.0 and may be removed in the future. Use 'spark.sql.execution.arrow.pyspark.enabled' instead of it.\n",
      "25/04/13 00:50:43 WARN SQLConf: The SQL config 'spark.sql.execution.arrow.enabled' has been deprecated in Spark v3.0 and may be removed in the future. Use 'spark.sql.execution.arrow.pyspark.enabled' instead of it.\n",
      "                                                                                \r"
     ]
    }
   ],
   "source": [
    "from pyspark.ml.classification import LogisticRegression\n",
    "\n",
    "train_data, test_data = final_data_lr.randomSplit([0.7,0.3])\n",
    "\n",
    "# Use mostly defaults to make this comparison \"fair\"\n",
    "lr = LogisticRegression(labelCol='LateIndex',featuresCol='features')\n",
    "lr_model = lr.fit(train_data)"
   ]
  },
  {
   "cell_type": "code",
   "execution_count": null,
   "id": "f815da5b",
   "metadata": {},
   "outputs": [],
   "source": [
    "# Make predictions\n",
    "lr_predictions_test = lr_model.transform(test_data)"
   ]
  },
  {
   "cell_type": "code",
   "execution_count": null,
   "id": "bb9d96e2",
   "metadata": {},
   "outputs": [],
   "source": [
    "# Make predictions\n",
    "lr_predictions_train = lr_model.transform(train_data)"
   ]
  },
  {
   "cell_type": "code",
   "execution_count": null,
   "id": "b9d73f9b",
   "metadata": {},
   "outputs": [
    {
     "name": "stderr",
     "output_type": "stream",
     "text": [
      "25/04/13 01:02:18 WARN SQLConf: The SQL config 'spark.sql.execution.arrow.enabled' has been deprecated in Spark v3.0 and may be removed in the future. Use 'spark.sql.execution.arrow.pyspark.enabled' instead of it.\n",
      "25/04/13 01:02:18 WARN SQLConf: The SQL config 'spark.sql.execution.arrow.enabled' has been deprecated in Spark v3.0 and may be removed in the future. Use 'spark.sql.execution.arrow.pyspark.enabled' instead of it.\n",
      "25/04/13 01:02:19 WARN SQLConf: The SQL config 'spark.sql.execution.arrow.enabled' has been deprecated in Spark v3.0 and may be removed in the future. Use 'spark.sql.execution.arrow.pyspark.enabled' instead of it.\n",
      "25/04/13 01:02:19 WARN SQLConf: The SQL config 'spark.sql.execution.arrow.enabled' has been deprecated in Spark v3.0 and may be removed in the future. Use 'spark.sql.execution.arrow.pyspark.enabled' instead of it.\n",
      "25/04/13 01:02:21 WARN SQLConf: The SQL config 'spark.sql.execution.arrow.enabled' has been deprecated in Spark v3.0 and may be removed in the future. Use 'spark.sql.execution.arrow.pyspark.enabled' instead of it.\n",
      "25/04/13 01:02:21 WARN SQLConf: The SQL config 'spark.sql.execution.arrow.enabled' has been deprecated in Spark v3.0 and may be removed in the future. Use 'spark.sql.execution.arrow.pyspark.enabled' instead of it.\n",
      "25/04/13 01:02:21 WARN SQLConf: The SQL config 'spark.sql.execution.arrow.enabled' has been deprecated in Spark v3.0 and may be removed in the future. Use 'spark.sql.execution.arrow.pyspark.enabled' instead of it.\n",
      "25/04/13 01:02:21 WARN SQLConf: The SQL config 'spark.sql.execution.arrow.enabled' has been deprecated in Spark v3.0 and may be removed in the future. Use 'spark.sql.execution.arrow.pyspark.enabled' instead of it.\n",
      "[Stage 71:>                                                         (0 + 4) / 4]\r"
     ]
    },
    {
     "name": "stdout",
     "output_type": "stream",
     "text": [
      "Model Evaluation Results\n",
      "--------------------------------------------------------------------------------\n",
      "Logistic regression accuracy on training data: 100.00%\n",
      "Logistic regression accuracy on test data: 100.00%\n",
      "--------------------------------------------------------------------------------\n"
     ]
    },
    {
     "name": "stderr",
     "output_type": "stream",
     "text": [
      "                                                                                \r"
     ]
    }
   ],
   "source": [
    "from pyspark.ml.evaluation import MulticlassClassificationEvaluator\n",
    "\n",
    "# Initialize evaluator with accuracy metric\n",
    "lr_evaluator = MulticlassClassificationEvaluator(labelCol=\"LateIndex\", predictionCol=\"prediction\", metricName=\"accuracy\")\n",
    "\n",
    "# Evaluate accuracy on test data\n",
    "lr_acc_test = lr_evaluator.evaluate(lr_predictions_test)\n",
    "\n",
    "# Evaluate accuracy on training data\n",
    "lr_acc_train = lr_evaluator.evaluate(lr_predictions_train)\n",
    "\n",
    "# Print the results\n",
    "print(\"Model Evaluation Results\")\n",
    "print('-'*80)\n",
    "print(f'Logistic regression accuracy on training data: {lr_acc_train*100:.2f}%')\n",
    "print(f'Logistic regression accuracy on test data: {lr_acc_test*100:.2f}%')\n",
    "print('-'*80)"
   ]
  },
  {
   "cell_type": "markdown",
   "id": "ab0e3a9d",
   "metadata": {},
   "source": [
    "#### 3. Random Forest"
   ]
  },
  {
   "cell_type": "code",
   "execution_count": null,
   "id": "b40ad5a3",
   "metadata": {},
   "outputs": [
    {
     "name": "stdout",
     "output_type": "stream",
     "text": [
      "Model Evaluation Results\n",
      "--------------------------------------------------------------------------------\n",
      "Random Forest accuracy on training data: 100.00%\n",
      "Random Forest accuracy on test data: 100.00%\n",
      "--------------------------------------------------------------------------------\n"
     ]
    }
   ],
   "source": [
    "from pyspark.ml.linalg import Vectors\n",
    "from pyspark.ml.feature import VectorAssembler\n",
    "from pyspark.ml.classification import RandomForestClassifier\n",
    "from pyspark.ml.feature import StringIndexer\n",
    "from pyspark.ml.evaluation import MulticlassClassificationEvaluator\n",
    "\n",
    "# Use the cleaned DataFrame\n",
    "df_rf = df1\n",
    "\n",
    "# Assemble input features\n",
    "assembler = VectorAssembler(\n",
    "    inputCols=[\n",
    "        'DirectionRef',\n",
    "        'OriginLat',\n",
    "        'OriginLong',\n",
    "        'DestinationLat',\n",
    "        'DestinationLong',\n",
    "        'VehicleLocation_Latitude',\n",
    "        'VehicleLocation_Longitude',\n",
    "        'DistanceFromStop',\n",
    "        'Late'\n",
    "    ],\n",
    "    outputCol=\"features\"\n",
    ")\n",
    "\n",
    "output = assembler.transform(df_rf)\n",
    "\n",
    "# Index the label column\n",
    "indexer = StringIndexer(inputCol=\"Late\", outputCol=\"LateIndex\")\n",
    "output_fixed = indexer.fit(output).transform(output)\n",
    "\n",
    "# Select features and label\n",
    "final_data_rf = output_fixed.select(\"features\", \"LateIndex\")\n",
    "\n",
    "# Split into train and test sets\n",
    "train_data, test_data = final_data_rf.randomSplit([0.7, 0.3], seed=42)\n",
    "\n",
    "# Initialize Random Forest classifier\n",
    "rf = RandomForestClassifier(labelCol=\"LateIndex\", featuresCol=\"features\", numTrees=20, maxDepth=5, seed=42)\n",
    "rf_model = rf.fit(train_data)\n",
    "\n",
    "# Make predictions\n",
    "rf_predictions_train = rf_model.transform(train_data)\n",
    "rf_predictions_test = rf_model.transform(test_data)\n",
    "\n",
    "# Evaluate accuracy\n",
    "evaluator = MulticlassClassificationEvaluator(labelCol=\"LateIndex\", predictionCol=\"prediction\", metricName=\"accuracy\")\n",
    "\n",
    "rf_acc_train = evaluator.evaluate(rf_predictions_train)\n",
    "rf_acc_test = evaluator.evaluate(rf_predictions_test)\n",
    "\n",
    "# Print results\n",
    "print(\"Model Evaluation Results\")\n",
    "print(\"-\" * 80)\n",
    "print(f\"Random Forest accuracy on training data: {rf_acc_train * 100:.2f}%\")\n",
    "print(f\"Random Forest accuracy on test data: {rf_acc_test * 100:.2f}%\")\n",
    "print(\"-\" * 80)"
   ]
  }
 ],
 "metadata": {
  "kernelspec": {
   "display_name": "base",
   "language": "python",
   "name": "python3"
  },
  "language_info": {
   "codemirror_mode": {
    "name": "ipython",
    "version": 3
   },
   "file_extension": ".py",
   "mimetype": "text/x-python",
   "name": "python",
   "nbconvert_exporter": "python",
   "pygments_lexer": "ipython3",
   "version": "3.11.4"
  }
 },
 "nbformat": 4,
 "nbformat_minor": 5
}
